{
 "cells": [
  {
   "cell_type": "code",
   "execution_count": 1,
   "id": "e01c21de",
   "metadata": {
    "ExecuteTime": {
     "end_time": "2022-12-30T13:07:32.595563Z",
     "start_time": "2022-12-30T13:07:29.443800Z"
    },
    "id": "e01c21de"
   },
   "outputs": [],
   "source": [
    "import pandas as pd\n",
    "from PIL import Image, ImageDraw, ImageFont\n",
    "import numpy as np\n",
    "from sklearn.model_selection import train_test_split\n",
    "import subprocess\n",
    "import datetime \n",
    "import os\n",
    "import matplotlib.pyplot as plt\n",
    "\n",
    "import torch\n",
    "import torch.nn as nn\n",
    "import torch.nn.functional as F\n",
    "from torch.utils.data import DataLoader, TensorDataset\n",
    "import torchvision.transforms.functional as F\n",
    "import cv2"
   ]
  },
  {
   "cell_type": "code",
   "execution_count": 2,
   "id": "d575ed62",
   "metadata": {
    "ExecuteTime": {
     "end_time": "2022-12-30T13:07:33.550170Z",
     "start_time": "2022-12-30T13:07:33.546716Z"
    },
    "id": "d575ed62"
   },
   "outputs": [],
   "source": [
    "IMAGE_SIZE_WIDTH = 96\n",
    "IMAGE_SIZE_HEIGHT = 96"
   ]
  },
  {
   "cell_type": "code",
   "execution_count": 3,
   "id": "767712a6",
   "metadata": {
    "ExecuteTime": {
     "end_time": "2022-12-30T13:07:34.034362Z",
     "start_time": "2022-12-30T13:07:34.028593Z"
    },
    "id": "767712a6"
   },
   "outputs": [],
   "source": [
    "def create_folder(path: str):\n",
    "    subprocess.run(\"mkdir -p \" + path, shell=True, check=True)"
   ]
  },
  {
   "cell_type": "code",
   "execution_count": 4,
   "id": "fd05c24e",
   "metadata": {
    "ExecuteTime": {
     "end_time": "2022-12-30T13:07:38.016213Z",
     "start_time": "2022-12-30T13:07:35.162004Z"
    },
    "id": "fd05c24e"
   },
   "outputs": [],
   "source": [
    "df_dample_submissions = pd.read_csv(\"data/SampleSubmission.csv\")\n",
    "df_id_lookup_table = pd.read_csv(\"data/IdLookupTable.csv\")\n",
    "df_train = pd.read_csv(\"data/training.csv\")\n",
    "df_test = pd.read_csv(\"data/test.csv\")"
   ]
  },
  {
   "cell_type": "markdown",
   "id": "e491ee5f",
   "metadata": {
    "id": "e491ee5f"
   },
   "source": [
    "## Explore tables"
   ]
  },
  {
   "cell_type": "markdown",
   "id": "02a70fa5",
   "metadata": {
    "id": "02a70fa5"
   },
   "source": [
    "explore tables"
   ]
  },
  {
   "cell_type": "code",
   "execution_count": 5,
   "id": "39a16803",
   "metadata": {
    "ExecuteTime": {
     "end_time": "2022-12-30T13:07:38.029578Z",
     "start_time": "2022-12-30T13:07:38.018909Z"
    },
    "colab": {
     "base_uri": "https://localhost:8080/"
    },
    "id": "39a16803",
    "outputId": "14d8dac2-bd16-478c-bbb7-dbb1be186ed1"
   },
   "outputs": [
    {
     "data": {
      "text/html": [
       "<div>\n",
       "<style scoped>\n",
       "    .dataframe tbody tr th:only-of-type {\n",
       "        vertical-align: middle;\n",
       "    }\n",
       "\n",
       "    .dataframe tbody tr th {\n",
       "        vertical-align: top;\n",
       "    }\n",
       "\n",
       "    .dataframe thead th {\n",
       "        text-align: right;\n",
       "    }\n",
       "</style>\n",
       "<table border=\"1\" class=\"dataframe\">\n",
       "  <thead>\n",
       "    <tr style=\"text-align: right;\">\n",
       "      <th></th>\n",
       "      <th>RowId</th>\n",
       "      <th>Location</th>\n",
       "    </tr>\n",
       "  </thead>\n",
       "  <tbody>\n",
       "    <tr>\n",
       "      <th>0</th>\n",
       "      <td>1</td>\n",
       "      <td>0</td>\n",
       "    </tr>\n",
       "    <tr>\n",
       "      <th>1</th>\n",
       "      <td>2</td>\n",
       "      <td>0</td>\n",
       "    </tr>\n",
       "    <tr>\n",
       "      <th>2</th>\n",
       "      <td>3</td>\n",
       "      <td>0</td>\n",
       "    </tr>\n",
       "    <tr>\n",
       "      <th>3</th>\n",
       "      <td>4</td>\n",
       "      <td>0</td>\n",
       "    </tr>\n",
       "    <tr>\n",
       "      <th>4</th>\n",
       "      <td>5</td>\n",
       "      <td>0</td>\n",
       "    </tr>\n",
       "    <tr>\n",
       "      <th>...</th>\n",
       "      <td>...</td>\n",
       "      <td>...</td>\n",
       "    </tr>\n",
       "    <tr>\n",
       "      <th>27119</th>\n",
       "      <td>27120</td>\n",
       "      <td>0</td>\n",
       "    </tr>\n",
       "    <tr>\n",
       "      <th>27120</th>\n",
       "      <td>27121</td>\n",
       "      <td>0</td>\n",
       "    </tr>\n",
       "    <tr>\n",
       "      <th>27121</th>\n",
       "      <td>27122</td>\n",
       "      <td>0</td>\n",
       "    </tr>\n",
       "    <tr>\n",
       "      <th>27122</th>\n",
       "      <td>27123</td>\n",
       "      <td>0</td>\n",
       "    </tr>\n",
       "    <tr>\n",
       "      <th>27123</th>\n",
       "      <td>27124</td>\n",
       "      <td>0</td>\n",
       "    </tr>\n",
       "  </tbody>\n",
       "</table>\n",
       "<p>27124 rows × 2 columns</p>\n",
       "</div>"
      ],
      "text/plain": [
       "       RowId  Location\n",
       "0          1         0\n",
       "1          2         0\n",
       "2          3         0\n",
       "3          4         0\n",
       "4          5         0\n",
       "...      ...       ...\n",
       "27119  27120         0\n",
       "27120  27121         0\n",
       "27121  27122         0\n",
       "27122  27123         0\n",
       "27123  27124         0\n",
       "\n",
       "[27124 rows x 2 columns]"
      ]
     },
     "execution_count": 5,
     "metadata": {},
     "output_type": "execute_result"
    }
   ],
   "source": [
    "df_dample_submissions"
   ]
  },
  {
   "cell_type": "code",
   "execution_count": 6,
   "id": "ee48d665",
   "metadata": {
    "ExecuteTime": {
     "end_time": "2022-12-30T13:07:38.195933Z",
     "start_time": "2022-12-30T13:07:38.180236Z"
    },
    "colab": {
     "base_uri": "https://localhost:8080/"
    },
    "id": "ee48d665",
    "outputId": "d5b70707-2e82-4414-d618-e32de5465879"
   },
   "outputs": [
    {
     "data": {
      "text/html": [
       "<div>\n",
       "<style scoped>\n",
       "    .dataframe tbody tr th:only-of-type {\n",
       "        vertical-align: middle;\n",
       "    }\n",
       "\n",
       "    .dataframe tbody tr th {\n",
       "        vertical-align: top;\n",
       "    }\n",
       "\n",
       "    .dataframe thead th {\n",
       "        text-align: right;\n",
       "    }\n",
       "</style>\n",
       "<table border=\"1\" class=\"dataframe\">\n",
       "  <thead>\n",
       "    <tr style=\"text-align: right;\">\n",
       "      <th></th>\n",
       "      <th>RowId</th>\n",
       "      <th>ImageId</th>\n",
       "      <th>FeatureName</th>\n",
       "      <th>Location</th>\n",
       "    </tr>\n",
       "  </thead>\n",
       "  <tbody>\n",
       "    <tr>\n",
       "      <th>0</th>\n",
       "      <td>1</td>\n",
       "      <td>1</td>\n",
       "      <td>left_eye_center_x</td>\n",
       "      <td>NaN</td>\n",
       "    </tr>\n",
       "    <tr>\n",
       "      <th>1</th>\n",
       "      <td>2</td>\n",
       "      <td>1</td>\n",
       "      <td>left_eye_center_y</td>\n",
       "      <td>NaN</td>\n",
       "    </tr>\n",
       "    <tr>\n",
       "      <th>2</th>\n",
       "      <td>3</td>\n",
       "      <td>1</td>\n",
       "      <td>right_eye_center_x</td>\n",
       "      <td>NaN</td>\n",
       "    </tr>\n",
       "    <tr>\n",
       "      <th>3</th>\n",
       "      <td>4</td>\n",
       "      <td>1</td>\n",
       "      <td>right_eye_center_y</td>\n",
       "      <td>NaN</td>\n",
       "    </tr>\n",
       "    <tr>\n",
       "      <th>4</th>\n",
       "      <td>5</td>\n",
       "      <td>1</td>\n",
       "      <td>left_eye_inner_corner_x</td>\n",
       "      <td>NaN</td>\n",
       "    </tr>\n",
       "    <tr>\n",
       "      <th>...</th>\n",
       "      <td>...</td>\n",
       "      <td>...</td>\n",
       "      <td>...</td>\n",
       "      <td>...</td>\n",
       "    </tr>\n",
       "    <tr>\n",
       "      <th>27119</th>\n",
       "      <td>27120</td>\n",
       "      <td>1783</td>\n",
       "      <td>right_eye_center_y</td>\n",
       "      <td>NaN</td>\n",
       "    </tr>\n",
       "    <tr>\n",
       "      <th>27120</th>\n",
       "      <td>27121</td>\n",
       "      <td>1783</td>\n",
       "      <td>nose_tip_x</td>\n",
       "      <td>NaN</td>\n",
       "    </tr>\n",
       "    <tr>\n",
       "      <th>27121</th>\n",
       "      <td>27122</td>\n",
       "      <td>1783</td>\n",
       "      <td>nose_tip_y</td>\n",
       "      <td>NaN</td>\n",
       "    </tr>\n",
       "    <tr>\n",
       "      <th>27122</th>\n",
       "      <td>27123</td>\n",
       "      <td>1783</td>\n",
       "      <td>mouth_center_bottom_lip_x</td>\n",
       "      <td>NaN</td>\n",
       "    </tr>\n",
       "    <tr>\n",
       "      <th>27123</th>\n",
       "      <td>27124</td>\n",
       "      <td>1783</td>\n",
       "      <td>mouth_center_bottom_lip_y</td>\n",
       "      <td>NaN</td>\n",
       "    </tr>\n",
       "  </tbody>\n",
       "</table>\n",
       "<p>27124 rows × 4 columns</p>\n",
       "</div>"
      ],
      "text/plain": [
       "       RowId  ImageId                FeatureName  Location\n",
       "0          1        1          left_eye_center_x       NaN\n",
       "1          2        1          left_eye_center_y       NaN\n",
       "2          3        1         right_eye_center_x       NaN\n",
       "3          4        1         right_eye_center_y       NaN\n",
       "4          5        1    left_eye_inner_corner_x       NaN\n",
       "...      ...      ...                        ...       ...\n",
       "27119  27120     1783         right_eye_center_y       NaN\n",
       "27120  27121     1783                 nose_tip_x       NaN\n",
       "27121  27122     1783                 nose_tip_y       NaN\n",
       "27122  27123     1783  mouth_center_bottom_lip_x       NaN\n",
       "27123  27124     1783  mouth_center_bottom_lip_y       NaN\n",
       "\n",
       "[27124 rows x 4 columns]"
      ]
     },
     "execution_count": 6,
     "metadata": {},
     "output_type": "execute_result"
    }
   ],
   "source": [
    "df_id_lookup_table"
   ]
  },
  {
   "cell_type": "code",
   "execution_count": 7,
   "id": "dae3996e",
   "metadata": {
    "ExecuteTime": {
     "end_time": "2022-12-30T13:07:38.796269Z",
     "start_time": "2022-12-30T13:07:38.765351Z"
    },
    "colab": {
     "base_uri": "https://localhost:8080/"
    },
    "id": "dae3996e",
    "outputId": "4bda4014-82a7-4315-dcfc-fdd403f8cc84"
   },
   "outputs": [
    {
     "data": {
      "text/html": [
       "<div>\n",
       "<style scoped>\n",
       "    .dataframe tbody tr th:only-of-type {\n",
       "        vertical-align: middle;\n",
       "    }\n",
       "\n",
       "    .dataframe tbody tr th {\n",
       "        vertical-align: top;\n",
       "    }\n",
       "\n",
       "    .dataframe thead th {\n",
       "        text-align: right;\n",
       "    }\n",
       "</style>\n",
       "<table border=\"1\" class=\"dataframe\">\n",
       "  <thead>\n",
       "    <tr style=\"text-align: right;\">\n",
       "      <th></th>\n",
       "      <th>left_eye_center_x</th>\n",
       "      <th>left_eye_center_y</th>\n",
       "      <th>right_eye_center_x</th>\n",
       "      <th>right_eye_center_y</th>\n",
       "      <th>left_eye_inner_corner_x</th>\n",
       "      <th>left_eye_inner_corner_y</th>\n",
       "      <th>left_eye_outer_corner_x</th>\n",
       "      <th>left_eye_outer_corner_y</th>\n",
       "      <th>right_eye_inner_corner_x</th>\n",
       "      <th>right_eye_inner_corner_y</th>\n",
       "      <th>...</th>\n",
       "      <th>nose_tip_y</th>\n",
       "      <th>mouth_left_corner_x</th>\n",
       "      <th>mouth_left_corner_y</th>\n",
       "      <th>mouth_right_corner_x</th>\n",
       "      <th>mouth_right_corner_y</th>\n",
       "      <th>mouth_center_top_lip_x</th>\n",
       "      <th>mouth_center_top_lip_y</th>\n",
       "      <th>mouth_center_bottom_lip_x</th>\n",
       "      <th>mouth_center_bottom_lip_y</th>\n",
       "      <th>Image</th>\n",
       "    </tr>\n",
       "  </thead>\n",
       "  <tbody>\n",
       "    <tr>\n",
       "      <th>0</th>\n",
       "      <td>66.033564</td>\n",
       "      <td>39.002274</td>\n",
       "      <td>30.227008</td>\n",
       "      <td>36.421678</td>\n",
       "      <td>59.582075</td>\n",
       "      <td>39.647423</td>\n",
       "      <td>73.130346</td>\n",
       "      <td>39.969997</td>\n",
       "      <td>36.356571</td>\n",
       "      <td>37.389402</td>\n",
       "      <td>...</td>\n",
       "      <td>57.066803</td>\n",
       "      <td>61.195308</td>\n",
       "      <td>79.970165</td>\n",
       "      <td>28.614496</td>\n",
       "      <td>77.388992</td>\n",
       "      <td>43.312602</td>\n",
       "      <td>72.935459</td>\n",
       "      <td>43.130707</td>\n",
       "      <td>84.485774</td>\n",
       "      <td>238 236 237 238 240 240 239 241 241 243 240 23...</td>\n",
       "    </tr>\n",
       "    <tr>\n",
       "      <th>1</th>\n",
       "      <td>64.332936</td>\n",
       "      <td>34.970077</td>\n",
       "      <td>29.949277</td>\n",
       "      <td>33.448715</td>\n",
       "      <td>58.856170</td>\n",
       "      <td>35.274349</td>\n",
       "      <td>70.722723</td>\n",
       "      <td>36.187166</td>\n",
       "      <td>36.034723</td>\n",
       "      <td>34.361532</td>\n",
       "      <td>...</td>\n",
       "      <td>55.660936</td>\n",
       "      <td>56.421447</td>\n",
       "      <td>76.352000</td>\n",
       "      <td>35.122383</td>\n",
       "      <td>76.047660</td>\n",
       "      <td>46.684596</td>\n",
       "      <td>70.266553</td>\n",
       "      <td>45.467915</td>\n",
       "      <td>85.480170</td>\n",
       "      <td>219 215 204 196 204 211 212 200 180 168 178 19...</td>\n",
       "    </tr>\n",
       "    <tr>\n",
       "      <th>2</th>\n",
       "      <td>65.057053</td>\n",
       "      <td>34.909642</td>\n",
       "      <td>30.903789</td>\n",
       "      <td>34.909642</td>\n",
       "      <td>59.412000</td>\n",
       "      <td>36.320968</td>\n",
       "      <td>70.984421</td>\n",
       "      <td>36.320968</td>\n",
       "      <td>37.678105</td>\n",
       "      <td>36.320968</td>\n",
       "      <td>...</td>\n",
       "      <td>53.538947</td>\n",
       "      <td>60.822947</td>\n",
       "      <td>73.014316</td>\n",
       "      <td>33.726316</td>\n",
       "      <td>72.732000</td>\n",
       "      <td>47.274947</td>\n",
       "      <td>70.191789</td>\n",
       "      <td>47.274947</td>\n",
       "      <td>78.659368</td>\n",
       "      <td>144 142 159 180 188 188 184 180 167 132 84 59 ...</td>\n",
       "    </tr>\n",
       "    <tr>\n",
       "      <th>3</th>\n",
       "      <td>65.225739</td>\n",
       "      <td>37.261774</td>\n",
       "      <td>32.023096</td>\n",
       "      <td>37.261774</td>\n",
       "      <td>60.003339</td>\n",
       "      <td>39.127179</td>\n",
       "      <td>72.314713</td>\n",
       "      <td>38.380967</td>\n",
       "      <td>37.618643</td>\n",
       "      <td>38.754115</td>\n",
       "      <td>...</td>\n",
       "      <td>54.166539</td>\n",
       "      <td>65.598887</td>\n",
       "      <td>72.703722</td>\n",
       "      <td>37.245496</td>\n",
       "      <td>74.195478</td>\n",
       "      <td>50.303165</td>\n",
       "      <td>70.091687</td>\n",
       "      <td>51.561183</td>\n",
       "      <td>78.268383</td>\n",
       "      <td>193 192 193 194 194 194 193 192 168 111 50 12 ...</td>\n",
       "    </tr>\n",
       "    <tr>\n",
       "      <th>4</th>\n",
       "      <td>66.725301</td>\n",
       "      <td>39.621261</td>\n",
       "      <td>32.244810</td>\n",
       "      <td>38.042032</td>\n",
       "      <td>58.565890</td>\n",
       "      <td>39.621261</td>\n",
       "      <td>72.515926</td>\n",
       "      <td>39.884466</td>\n",
       "      <td>36.982380</td>\n",
       "      <td>39.094852</td>\n",
       "      <td>...</td>\n",
       "      <td>64.889521</td>\n",
       "      <td>60.671411</td>\n",
       "      <td>77.523239</td>\n",
       "      <td>31.191755</td>\n",
       "      <td>76.997301</td>\n",
       "      <td>44.962748</td>\n",
       "      <td>73.707387</td>\n",
       "      <td>44.227141</td>\n",
       "      <td>86.871166</td>\n",
       "      <td>147 148 160 196 215 214 216 217 219 220 206 18...</td>\n",
       "    </tr>\n",
       "    <tr>\n",
       "      <th>...</th>\n",
       "      <td>...</td>\n",
       "      <td>...</td>\n",
       "      <td>...</td>\n",
       "      <td>...</td>\n",
       "      <td>...</td>\n",
       "      <td>...</td>\n",
       "      <td>...</td>\n",
       "      <td>...</td>\n",
       "      <td>...</td>\n",
       "      <td>...</td>\n",
       "      <td>...</td>\n",
       "      <td>...</td>\n",
       "      <td>...</td>\n",
       "      <td>...</td>\n",
       "      <td>...</td>\n",
       "      <td>...</td>\n",
       "      <td>...</td>\n",
       "      <td>...</td>\n",
       "      <td>...</td>\n",
       "      <td>...</td>\n",
       "      <td>...</td>\n",
       "    </tr>\n",
       "    <tr>\n",
       "      <th>7044</th>\n",
       "      <td>67.402546</td>\n",
       "      <td>31.842551</td>\n",
       "      <td>29.746749</td>\n",
       "      <td>38.632942</td>\n",
       "      <td>NaN</td>\n",
       "      <td>NaN</td>\n",
       "      <td>NaN</td>\n",
       "      <td>NaN</td>\n",
       "      <td>NaN</td>\n",
       "      <td>NaN</td>\n",
       "      <td>...</td>\n",
       "      <td>67.029093</td>\n",
       "      <td>NaN</td>\n",
       "      <td>NaN</td>\n",
       "      <td>NaN</td>\n",
       "      <td>NaN</td>\n",
       "      <td>NaN</td>\n",
       "      <td>NaN</td>\n",
       "      <td>50.426637</td>\n",
       "      <td>79.683921</td>\n",
       "      <td>71 74 85 105 116 128 139 150 170 187 201 209 2...</td>\n",
       "    </tr>\n",
       "    <tr>\n",
       "      <th>7045</th>\n",
       "      <td>66.134400</td>\n",
       "      <td>38.365501</td>\n",
       "      <td>30.478626</td>\n",
       "      <td>39.950198</td>\n",
       "      <td>NaN</td>\n",
       "      <td>NaN</td>\n",
       "      <td>NaN</td>\n",
       "      <td>NaN</td>\n",
       "      <td>NaN</td>\n",
       "      <td>NaN</td>\n",
       "      <td>...</td>\n",
       "      <td>66.626011</td>\n",
       "      <td>NaN</td>\n",
       "      <td>NaN</td>\n",
       "      <td>NaN</td>\n",
       "      <td>NaN</td>\n",
       "      <td>NaN</td>\n",
       "      <td>NaN</td>\n",
       "      <td>50.287397</td>\n",
       "      <td>77.983023</td>\n",
       "      <td>60 60 62 57 55 51 49 48 50 53 56 56 106 89 77 ...</td>\n",
       "    </tr>\n",
       "    <tr>\n",
       "      <th>7046</th>\n",
       "      <td>66.690732</td>\n",
       "      <td>36.845221</td>\n",
       "      <td>31.666420</td>\n",
       "      <td>39.685042</td>\n",
       "      <td>NaN</td>\n",
       "      <td>NaN</td>\n",
       "      <td>NaN</td>\n",
       "      <td>NaN</td>\n",
       "      <td>NaN</td>\n",
       "      <td>NaN</td>\n",
       "      <td>...</td>\n",
       "      <td>67.515161</td>\n",
       "      <td>NaN</td>\n",
       "      <td>NaN</td>\n",
       "      <td>NaN</td>\n",
       "      <td>NaN</td>\n",
       "      <td>NaN</td>\n",
       "      <td>NaN</td>\n",
       "      <td>49.462572</td>\n",
       "      <td>78.117120</td>\n",
       "      <td>74 74 74 78 79 79 79 81 77 78 80 73 72 81 77 1...</td>\n",
       "    </tr>\n",
       "    <tr>\n",
       "      <th>7047</th>\n",
       "      <td>70.965082</td>\n",
       "      <td>39.853666</td>\n",
       "      <td>30.543285</td>\n",
       "      <td>40.772339</td>\n",
       "      <td>NaN</td>\n",
       "      <td>NaN</td>\n",
       "      <td>NaN</td>\n",
       "      <td>NaN</td>\n",
       "      <td>NaN</td>\n",
       "      <td>NaN</td>\n",
       "      <td>...</td>\n",
       "      <td>66.724988</td>\n",
       "      <td>NaN</td>\n",
       "      <td>NaN</td>\n",
       "      <td>NaN</td>\n",
       "      <td>NaN</td>\n",
       "      <td>NaN</td>\n",
       "      <td>NaN</td>\n",
       "      <td>50.065186</td>\n",
       "      <td>79.586447</td>\n",
       "      <td>254 254 254 254 254 238 193 145 121 118 119 10...</td>\n",
       "    </tr>\n",
       "    <tr>\n",
       "      <th>7048</th>\n",
       "      <td>66.938311</td>\n",
       "      <td>43.424510</td>\n",
       "      <td>31.096059</td>\n",
       "      <td>39.528604</td>\n",
       "      <td>NaN</td>\n",
       "      <td>NaN</td>\n",
       "      <td>NaN</td>\n",
       "      <td>NaN</td>\n",
       "      <td>NaN</td>\n",
       "      <td>NaN</td>\n",
       "      <td>...</td>\n",
       "      <td>73.033339</td>\n",
       "      <td>NaN</td>\n",
       "      <td>NaN</td>\n",
       "      <td>NaN</td>\n",
       "      <td>NaN</td>\n",
       "      <td>NaN</td>\n",
       "      <td>NaN</td>\n",
       "      <td>45.900480</td>\n",
       "      <td>82.773096</td>\n",
       "      <td>53 62 67 76 86 91 97 105 105 106 107 108 112 1...</td>\n",
       "    </tr>\n",
       "  </tbody>\n",
       "</table>\n",
       "<p>7049 rows × 31 columns</p>\n",
       "</div>"
      ],
      "text/plain": [
       "      left_eye_center_x  left_eye_center_y  right_eye_center_x  \\\n",
       "0             66.033564          39.002274           30.227008   \n",
       "1             64.332936          34.970077           29.949277   \n",
       "2             65.057053          34.909642           30.903789   \n",
       "3             65.225739          37.261774           32.023096   \n",
       "4             66.725301          39.621261           32.244810   \n",
       "...                 ...                ...                 ...   \n",
       "7044          67.402546          31.842551           29.746749   \n",
       "7045          66.134400          38.365501           30.478626   \n",
       "7046          66.690732          36.845221           31.666420   \n",
       "7047          70.965082          39.853666           30.543285   \n",
       "7048          66.938311          43.424510           31.096059   \n",
       "\n",
       "      right_eye_center_y  left_eye_inner_corner_x  left_eye_inner_corner_y  \\\n",
       "0              36.421678                59.582075                39.647423   \n",
       "1              33.448715                58.856170                35.274349   \n",
       "2              34.909642                59.412000                36.320968   \n",
       "3              37.261774                60.003339                39.127179   \n",
       "4              38.042032                58.565890                39.621261   \n",
       "...                  ...                      ...                      ...   \n",
       "7044           38.632942                      NaN                      NaN   \n",
       "7045           39.950198                      NaN                      NaN   \n",
       "7046           39.685042                      NaN                      NaN   \n",
       "7047           40.772339                      NaN                      NaN   \n",
       "7048           39.528604                      NaN                      NaN   \n",
       "\n",
       "      left_eye_outer_corner_x  left_eye_outer_corner_y  \\\n",
       "0                   73.130346                39.969997   \n",
       "1                   70.722723                36.187166   \n",
       "2                   70.984421                36.320968   \n",
       "3                   72.314713                38.380967   \n",
       "4                   72.515926                39.884466   \n",
       "...                       ...                      ...   \n",
       "7044                      NaN                      NaN   \n",
       "7045                      NaN                      NaN   \n",
       "7046                      NaN                      NaN   \n",
       "7047                      NaN                      NaN   \n",
       "7048                      NaN                      NaN   \n",
       "\n",
       "      right_eye_inner_corner_x  right_eye_inner_corner_y  ...  nose_tip_y  \\\n",
       "0                    36.356571                 37.389402  ...   57.066803   \n",
       "1                    36.034723                 34.361532  ...   55.660936   \n",
       "2                    37.678105                 36.320968  ...   53.538947   \n",
       "3                    37.618643                 38.754115  ...   54.166539   \n",
       "4                    36.982380                 39.094852  ...   64.889521   \n",
       "...                        ...                       ...  ...         ...   \n",
       "7044                       NaN                       NaN  ...   67.029093   \n",
       "7045                       NaN                       NaN  ...   66.626011   \n",
       "7046                       NaN                       NaN  ...   67.515161   \n",
       "7047                       NaN                       NaN  ...   66.724988   \n",
       "7048                       NaN                       NaN  ...   73.033339   \n",
       "\n",
       "      mouth_left_corner_x  mouth_left_corner_y  mouth_right_corner_x  \\\n",
       "0               61.195308            79.970165             28.614496   \n",
       "1               56.421447            76.352000             35.122383   \n",
       "2               60.822947            73.014316             33.726316   \n",
       "3               65.598887            72.703722             37.245496   \n",
       "4               60.671411            77.523239             31.191755   \n",
       "...                   ...                  ...                   ...   \n",
       "7044                  NaN                  NaN                   NaN   \n",
       "7045                  NaN                  NaN                   NaN   \n",
       "7046                  NaN                  NaN                   NaN   \n",
       "7047                  NaN                  NaN                   NaN   \n",
       "7048                  NaN                  NaN                   NaN   \n",
       "\n",
       "      mouth_right_corner_y  mouth_center_top_lip_x  mouth_center_top_lip_y  \\\n",
       "0                77.388992               43.312602               72.935459   \n",
       "1                76.047660               46.684596               70.266553   \n",
       "2                72.732000               47.274947               70.191789   \n",
       "3                74.195478               50.303165               70.091687   \n",
       "4                76.997301               44.962748               73.707387   \n",
       "...                    ...                     ...                     ...   \n",
       "7044                   NaN                     NaN                     NaN   \n",
       "7045                   NaN                     NaN                     NaN   \n",
       "7046                   NaN                     NaN                     NaN   \n",
       "7047                   NaN                     NaN                     NaN   \n",
       "7048                   NaN                     NaN                     NaN   \n",
       "\n",
       "      mouth_center_bottom_lip_x  mouth_center_bottom_lip_y  \\\n",
       "0                     43.130707                  84.485774   \n",
       "1                     45.467915                  85.480170   \n",
       "2                     47.274947                  78.659368   \n",
       "3                     51.561183                  78.268383   \n",
       "4                     44.227141                  86.871166   \n",
       "...                         ...                        ...   \n",
       "7044                  50.426637                  79.683921   \n",
       "7045                  50.287397                  77.983023   \n",
       "7046                  49.462572                  78.117120   \n",
       "7047                  50.065186                  79.586447   \n",
       "7048                  45.900480                  82.773096   \n",
       "\n",
       "                                                  Image  \n",
       "0     238 236 237 238 240 240 239 241 241 243 240 23...  \n",
       "1     219 215 204 196 204 211 212 200 180 168 178 19...  \n",
       "2     144 142 159 180 188 188 184 180 167 132 84 59 ...  \n",
       "3     193 192 193 194 194 194 193 192 168 111 50 12 ...  \n",
       "4     147 148 160 196 215 214 216 217 219 220 206 18...  \n",
       "...                                                 ...  \n",
       "7044  71 74 85 105 116 128 139 150 170 187 201 209 2...  \n",
       "7045  60 60 62 57 55 51 49 48 50 53 56 56 106 89 77 ...  \n",
       "7046  74 74 74 78 79 79 79 81 77 78 80 73 72 81 77 1...  \n",
       "7047  254 254 254 254 254 238 193 145 121 118 119 10...  \n",
       "7048  53 62 67 76 86 91 97 105 105 106 107 108 112 1...  \n",
       "\n",
       "[7049 rows x 31 columns]"
      ]
     },
     "execution_count": 7,
     "metadata": {},
     "output_type": "execute_result"
    }
   ],
   "source": [
    "df_train"
   ]
  },
  {
   "cell_type": "code",
   "execution_count": 8,
   "id": "635137cf",
   "metadata": {
    "ExecuteTime": {
     "end_time": "2022-12-30T13:07:39.297347Z",
     "start_time": "2022-12-30T13:07:39.276777Z"
    },
    "colab": {
     "base_uri": "https://localhost:8080/"
    },
    "id": "635137cf",
    "outputId": "b130f9f0-98ff-4c12-d908-472c944d1c3d"
   },
   "outputs": [
    {
     "data": {
      "text/html": [
       "<div>\n",
       "<style scoped>\n",
       "    .dataframe tbody tr th:only-of-type {\n",
       "        vertical-align: middle;\n",
       "    }\n",
       "\n",
       "    .dataframe tbody tr th {\n",
       "        vertical-align: top;\n",
       "    }\n",
       "\n",
       "    .dataframe thead th {\n",
       "        text-align: right;\n",
       "    }\n",
       "</style>\n",
       "<table border=\"1\" class=\"dataframe\">\n",
       "  <thead>\n",
       "    <tr style=\"text-align: right;\">\n",
       "      <th></th>\n",
       "      <th>ImageId</th>\n",
       "      <th>Image</th>\n",
       "    </tr>\n",
       "  </thead>\n",
       "  <tbody>\n",
       "    <tr>\n",
       "      <th>0</th>\n",
       "      <td>1</td>\n",
       "      <td>182 183 182 182 180 180 176 169 156 137 124 10...</td>\n",
       "    </tr>\n",
       "    <tr>\n",
       "      <th>1</th>\n",
       "      <td>2</td>\n",
       "      <td>76 87 81 72 65 59 64 76 69 42 31 38 49 58 58 4...</td>\n",
       "    </tr>\n",
       "    <tr>\n",
       "      <th>2</th>\n",
       "      <td>3</td>\n",
       "      <td>177 176 174 170 169 169 168 166 166 166 161 14...</td>\n",
       "    </tr>\n",
       "    <tr>\n",
       "      <th>3</th>\n",
       "      <td>4</td>\n",
       "      <td>176 174 174 175 174 174 176 176 175 171 165 15...</td>\n",
       "    </tr>\n",
       "    <tr>\n",
       "      <th>4</th>\n",
       "      <td>5</td>\n",
       "      <td>50 47 44 101 144 149 120 58 48 42 35 35 37 39 ...</td>\n",
       "    </tr>\n",
       "    <tr>\n",
       "      <th>...</th>\n",
       "      <td>...</td>\n",
       "      <td>...</td>\n",
       "    </tr>\n",
       "    <tr>\n",
       "      <th>1778</th>\n",
       "      <td>1779</td>\n",
       "      <td>101 101 101 100 100 97 97 98 102 149 214 206 1...</td>\n",
       "    </tr>\n",
       "    <tr>\n",
       "      <th>1779</th>\n",
       "      <td>1780</td>\n",
       "      <td>201 191 171 158 145 140 136 130 123 115 108 10...</td>\n",
       "    </tr>\n",
       "    <tr>\n",
       "      <th>1780</th>\n",
       "      <td>1781</td>\n",
       "      <td>28 28 29 30 31 32 33 34 39 44 46 46 49 54 61 7...</td>\n",
       "    </tr>\n",
       "    <tr>\n",
       "      <th>1781</th>\n",
       "      <td>1782</td>\n",
       "      <td>104 95 71 57 46 52 65 70 70 67 76 72 69 69 72 ...</td>\n",
       "    </tr>\n",
       "    <tr>\n",
       "      <th>1782</th>\n",
       "      <td>1783</td>\n",
       "      <td>63 61 64 66 66 64 65 70 69 70 77 83 63 34 22 2...</td>\n",
       "    </tr>\n",
       "  </tbody>\n",
       "</table>\n",
       "<p>1783 rows × 2 columns</p>\n",
       "</div>"
      ],
      "text/plain": [
       "      ImageId                                              Image\n",
       "0           1  182 183 182 182 180 180 176 169 156 137 124 10...\n",
       "1           2  76 87 81 72 65 59 64 76 69 42 31 38 49 58 58 4...\n",
       "2           3  177 176 174 170 169 169 168 166 166 166 161 14...\n",
       "3           4  176 174 174 175 174 174 176 176 175 171 165 15...\n",
       "4           5  50 47 44 101 144 149 120 58 48 42 35 35 37 39 ...\n",
       "...       ...                                                ...\n",
       "1778     1779  101 101 101 100 100 97 97 98 102 149 214 206 1...\n",
       "1779     1780  201 191 171 158 145 140 136 130 123 115 108 10...\n",
       "1780     1781  28 28 29 30 31 32 33 34 39 44 46 46 49 54 61 7...\n",
       "1781     1782  104 95 71 57 46 52 65 70 70 67 76 72 69 69 72 ...\n",
       "1782     1783  63 61 64 66 66 64 65 70 69 70 77 83 63 34 22 2...\n",
       "\n",
       "[1783 rows x 2 columns]"
      ]
     },
     "execution_count": 8,
     "metadata": {},
     "output_type": "execute_result"
    }
   ],
   "source": [
    "df_test"
   ]
  },
  {
   "cell_type": "markdown",
   "id": "c21699df",
   "metadata": {
    "id": "c21699df"
   },
   "source": [
    "Show some image and prepare functions for visualizing "
   ]
  },
  {
   "cell_type": "code",
   "execution_count": 9,
   "id": "3e17fe1e",
   "metadata": {
    "ExecuteTime": {
     "end_time": "2022-12-30T13:07:41.321551Z",
     "start_time": "2022-12-30T13:07:41.300850Z"
    },
    "id": "3e17fe1e"
   },
   "outputs": [],
   "source": [
    "def split(a, n):\n",
    "    \"\"\"Split a into n evenly sized chunks\"\"\"\n",
    "    k, m = len(a) // n, len(a) % n\n",
    "    return [a[i * k:(i + 1) * k] for i in range(n)]\n",
    "\n",
    "\n",
    "def get_image(encoded_image: str):\n",
    "    \"\"\"get image from encoded string\"\"\"\n",
    "    img_arr = list(map(lambda x: int(x), encoded_image.split(' ')))\n",
    "    img_arr = np.array(split(img_arr, IMAGE_SIZE_WIDTH))\n",
    "\n",
    "    img = Image.new(\"L\", (IMAGE_SIZE_HEIGHT, IMAGE_SIZE_WIDTH))\n",
    "    pixels = img.load()\n",
    "    for i in range(img.size[0]):\n",
    "        for j in range(img.size[1]):\n",
    "            pixels[j, i] = int(img_arr[i][j])\n",
    "    return img\n",
    "\n",
    "\n",
    "def check_length(encoded_image: str):\n",
    "    \"\"\"checks if encoded image has valid dimensions\"\"\"\n",
    "    assert encoded_image.count(' ') == IMAGE_SIZE_HEIGHT * \\\n",
    "        IMAGE_SIZE_WIDTH - 1, \"image size don't equal expected size\"\n",
    "\n",
    "\n",
    "def draw_points(img, points, color=(255, 0, 0)):\n",
    "    \"\"\"returns image with added points\"\"\"\n",
    "    rgb_img = img.convert('RGB')\n",
    "\n",
    "    d = ImageDraw.Draw(rgb_img)\n",
    "    for point in points:\n",
    "        if np.isnan(point[0]):\n",
    "            continue\n",
    "\n",
    "        horizontal_line = [(int(point[0]) - 2, int(point[1])),\n",
    "                           (int(point[0]) + 2, int(point[1]))]\n",
    "        vertical_line = [(int(point[0]), int(point[1]) - 2),\n",
    "                         (int(point[0]), int(point[1]) + 2)]\n",
    "        d.line(horizontal_line, color)\n",
    "        d.line(vertical_line, color)\n",
    "\n",
    "    return rgb_img\n",
    "\n",
    "\n",
    "def draw_training_record(record):\n",
    "    \"\"\"draws facial keypoints to image from dataset record and shows it. parametr record is row from pandas table\"\"\"\n",
    "    points = []\n",
    "    b = None\n",
    "    for r in record.to_list()[:-1]:\n",
    "        if b:\n",
    "            points.append((b, r))\n",
    "            b = None\n",
    "        else:\n",
    "            b = r\n",
    "\n",
    "    img = get_image(record.to_list()[-1])\n",
    "    img_points = draw_points(img, points)\n",
    "\n",
    "    display(img_points)\n",
    "    return img_points\n",
    "\n",
    "\n",
    "def draw_predicted_target(img_arr, prediction, target):\n",
    "    \"\"\"Returns image and facial keypoints predicted and corect ones\"\"\"\n",
    "    # create image to PIL class\n",
    "    img = Image.new(\"L\", (IMAGE_SIZE_HEIGHT, IMAGE_SIZE_WIDTH))\n",
    "    pixels = img.load()\n",
    "    for i in range(img.size[0]):\n",
    "        for j in range(img.size[1]):\n",
    "            pixels[j, i] = int(img_arr[i][j])\n",
    "\n",
    "    # draw points to image\n",
    "    img = draw_points(img, target)\n",
    "    img = draw_points(img, prediction, color=(0, 0, 255))\n",
    "\n",
    "    return img"
   ]
  },
  {
   "cell_type": "code",
   "execution_count": 10,
   "id": "e2d2ed29",
   "metadata": {
    "ExecuteTime": {
     "end_time": "2022-12-30T13:07:42.537009Z",
     "start_time": "2022-12-30T13:07:42.511269Z"
    },
    "colab": {
     "base_uri": "https://localhost:8080/"
    },
    "id": "e2d2ed29",
    "outputId": "9a8eb1de-6947-4b27-f16f-c87d2fa86796"
   },
   "outputs": [
    {
     "data": {
      "image/png": "[encoded data removed]",
      "text/plain": [
       "<PIL.Image.Image image mode=RGB size=96x96>"
      ]
     },
     "metadata": {},
     "output_type": "display_data"
    },
    {
     "data": {
      "image/png": "[encoded data removed]",
      "text/plain": [
       "<PIL.Image.Image image mode=RGB size=96x96>"
      ]
     },
     "execution_count": 10,
     "metadata": {},
     "output_type": "execute_result"
    }
   ],
   "source": [
    "record = df_train.iloc[0]\n",
    "draw_training_record(record)"
   ]
  },
  {
   "cell_type": "markdown",
   "id": "4cccd77d",
   "metadata": {
    "id": "4cccd77d"
   },
   "source": [
    "Check if lengths of an images are as expected"
   ]
  },
  {
   "cell_type": "code",
   "execution_count": 11,
   "id": "bcf33a5c",
   "metadata": {
    "ExecuteTime": {
     "end_time": "2022-12-30T13:07:45.898671Z",
     "start_time": "2022-12-30T13:07:45.242772Z"
    },
    "id": "bcf33a5c"
   },
   "outputs": [],
   "source": [
    "for i, img in df_train.iterrows():\n",
    "    check_length(img[\"Image\"])\n",
    "\n",
    "for i, img in df_test.iterrows():\n",
    "    check_length(img[\"Image\"])"
   ]
  },
  {
   "cell_type": "code",
   "execution_count": 12,
   "id": "f80e2f0e",
   "metadata": {
    "ExecuteTime": {
     "end_time": "2022-12-30T13:07:46.506698Z",
     "start_time": "2022-12-30T13:07:46.421844Z"
    },
    "colab": {
     "base_uri": "https://localhost:8080/"
    },
    "id": "f80e2f0e",
    "outputId": "2ef83701-13fb-4361-991c-26bb7ab29eae"
   },
   "outputs": [
    {
     "data": {
      "text/html": [
       "<div>\n",
       "<style scoped>\n",
       "    .dataframe tbody tr th:only-of-type {\n",
       "        vertical-align: middle;\n",
       "    }\n",
       "\n",
       "    .dataframe tbody tr th {\n",
       "        vertical-align: top;\n",
       "    }\n",
       "\n",
       "    .dataframe thead th {\n",
       "        text-align: right;\n",
       "    }\n",
       "</style>\n",
       "<table border=\"1\" class=\"dataframe\">\n",
       "  <thead>\n",
       "    <tr style=\"text-align: right;\">\n",
       "      <th></th>\n",
       "      <th>left_eye_center_x</th>\n",
       "      <th>left_eye_center_y</th>\n",
       "      <th>right_eye_center_x</th>\n",
       "      <th>right_eye_center_y</th>\n",
       "      <th>left_eye_inner_corner_x</th>\n",
       "      <th>left_eye_inner_corner_y</th>\n",
       "      <th>left_eye_outer_corner_x</th>\n",
       "      <th>left_eye_outer_corner_y</th>\n",
       "      <th>right_eye_inner_corner_x</th>\n",
       "      <th>right_eye_inner_corner_y</th>\n",
       "      <th>...</th>\n",
       "      <th>nose_tip_x</th>\n",
       "      <th>nose_tip_y</th>\n",
       "      <th>mouth_left_corner_x</th>\n",
       "      <th>mouth_left_corner_y</th>\n",
       "      <th>mouth_right_corner_x</th>\n",
       "      <th>mouth_right_corner_y</th>\n",
       "      <th>mouth_center_top_lip_x</th>\n",
       "      <th>mouth_center_top_lip_y</th>\n",
       "      <th>mouth_center_bottom_lip_x</th>\n",
       "      <th>mouth_center_bottom_lip_y</th>\n",
       "    </tr>\n",
       "  </thead>\n",
       "  <tbody>\n",
       "    <tr>\n",
       "      <th>count</th>\n",
       "      <td>7039.000000</td>\n",
       "      <td>7039.000000</td>\n",
       "      <td>7036.000000</td>\n",
       "      <td>7036.000000</td>\n",
       "      <td>2271.000000</td>\n",
       "      <td>2271.000000</td>\n",
       "      <td>2267.000000</td>\n",
       "      <td>2267.000000</td>\n",
       "      <td>2268.000000</td>\n",
       "      <td>2268.000000</td>\n",
       "      <td>...</td>\n",
       "      <td>7049.000000</td>\n",
       "      <td>7049.000000</td>\n",
       "      <td>2269.000000</td>\n",
       "      <td>2269.000000</td>\n",
       "      <td>2270.000000</td>\n",
       "      <td>2270.000000</td>\n",
       "      <td>2275.000000</td>\n",
       "      <td>2275.000000</td>\n",
       "      <td>7016.000000</td>\n",
       "      <td>7016.000000</td>\n",
       "    </tr>\n",
       "    <tr>\n",
       "      <th>mean</th>\n",
       "      <td>66.359021</td>\n",
       "      <td>37.651234</td>\n",
       "      <td>30.306102</td>\n",
       "      <td>37.976943</td>\n",
       "      <td>59.159339</td>\n",
       "      <td>37.944752</td>\n",
       "      <td>73.330478</td>\n",
       "      <td>37.707008</td>\n",
       "      <td>36.652607</td>\n",
       "      <td>37.989902</td>\n",
       "      <td>...</td>\n",
       "      <td>48.374186</td>\n",
       "      <td>62.715884</td>\n",
       "      <td>63.285735</td>\n",
       "      <td>75.970714</td>\n",
       "      <td>32.900404</td>\n",
       "      <td>76.179768</td>\n",
       "      <td>47.975412</td>\n",
       "      <td>72.919443</td>\n",
       "      <td>48.569472</td>\n",
       "      <td>78.970146</td>\n",
       "    </tr>\n",
       "    <tr>\n",
       "      <th>std</th>\n",
       "      <td>3.448233</td>\n",
       "      <td>3.152926</td>\n",
       "      <td>3.083230</td>\n",
       "      <td>3.033621</td>\n",
       "      <td>2.690354</td>\n",
       "      <td>2.307332</td>\n",
       "      <td>3.405852</td>\n",
       "      <td>2.881438</td>\n",
       "      <td>2.350268</td>\n",
       "      <td>2.311907</td>\n",
       "      <td>...</td>\n",
       "      <td>4.280038</td>\n",
       "      <td>5.720567</td>\n",
       "      <td>4.079063</td>\n",
       "      <td>4.579724</td>\n",
       "      <td>3.964552</td>\n",
       "      <td>4.417814</td>\n",
       "      <td>3.323060</td>\n",
       "      <td>5.222500</td>\n",
       "      <td>4.269961</td>\n",
       "      <td>5.407844</td>\n",
       "    </tr>\n",
       "    <tr>\n",
       "      <th>min</th>\n",
       "      <td>22.763345</td>\n",
       "      <td>1.616512</td>\n",
       "      <td>0.686592</td>\n",
       "      <td>4.091264</td>\n",
       "      <td>19.064954</td>\n",
       "      <td>27.190098</td>\n",
       "      <td>27.571879</td>\n",
       "      <td>26.250023</td>\n",
       "      <td>5.751046</td>\n",
       "      <td>26.250023</td>\n",
       "      <td>...</td>\n",
       "      <td>12.944699</td>\n",
       "      <td>17.932414</td>\n",
       "      <td>22.923362</td>\n",
       "      <td>57.023258</td>\n",
       "      <td>2.245766</td>\n",
       "      <td>56.690208</td>\n",
       "      <td>12.605173</td>\n",
       "      <td>56.719043</td>\n",
       "      <td>12.536477</td>\n",
       "      <td>25.850503</td>\n",
       "    </tr>\n",
       "    <tr>\n",
       "      <th>25%</th>\n",
       "      <td>65.082895</td>\n",
       "      <td>35.900451</td>\n",
       "      <td>28.783339</td>\n",
       "      <td>36.327681</td>\n",
       "      <td>58.039339</td>\n",
       "      <td>36.626283</td>\n",
       "      <td>71.716503</td>\n",
       "      <td>36.085523</td>\n",
       "      <td>35.506126</td>\n",
       "      <td>36.766783</td>\n",
       "      <td>...</td>\n",
       "      <td>46.602370</td>\n",
       "      <td>59.292697</td>\n",
       "      <td>61.257143</td>\n",
       "      <td>72.875707</td>\n",
       "      <td>30.797646</td>\n",
       "      <td>73.256472</td>\n",
       "      <td>46.494571</td>\n",
       "      <td>69.396748</td>\n",
       "      <td>46.573703</td>\n",
       "      <td>75.549715</td>\n",
       "    </tr>\n",
       "    <tr>\n",
       "      <th>50%</th>\n",
       "      <td>66.497566</td>\n",
       "      <td>37.528055</td>\n",
       "      <td>30.251378</td>\n",
       "      <td>37.813273</td>\n",
       "      <td>59.304615</td>\n",
       "      <td>37.878040</td>\n",
       "      <td>73.247824</td>\n",
       "      <td>37.639015</td>\n",
       "      <td>36.651562</td>\n",
       "      <td>37.944075</td>\n",
       "      <td>...</td>\n",
       "      <td>48.424713</td>\n",
       "      <td>63.451421</td>\n",
       "      <td>63.178286</td>\n",
       "      <td>75.778689</td>\n",
       "      <td>32.982305</td>\n",
       "      <td>76.000592</td>\n",
       "      <td>47.905490</td>\n",
       "      <td>72.605173</td>\n",
       "      <td>48.594978</td>\n",
       "      <td>78.696326</td>\n",
       "    </tr>\n",
       "    <tr>\n",
       "      <th>75%</th>\n",
       "      <td>68.024752</td>\n",
       "      <td>39.258449</td>\n",
       "      <td>31.768334</td>\n",
       "      <td>39.566729</td>\n",
       "      <td>60.519810</td>\n",
       "      <td>39.260348</td>\n",
       "      <td>75.015645</td>\n",
       "      <td>39.373489</td>\n",
       "      <td>37.753571</td>\n",
       "      <td>39.192917</td>\n",
       "      <td>...</td>\n",
       "      <td>50.330437</td>\n",
       "      <td>66.492686</td>\n",
       "      <td>65.376243</td>\n",
       "      <td>78.879123</td>\n",
       "      <td>35.101302</td>\n",
       "      <td>78.956357</td>\n",
       "      <td>49.296488</td>\n",
       "      <td>76.221644</td>\n",
       "      <td>50.677631</td>\n",
       "      <td>82.233993</td>\n",
       "    </tr>\n",
       "    <tr>\n",
       "      <th>max</th>\n",
       "      <td>94.689280</td>\n",
       "      <td>80.502649</td>\n",
       "      <td>85.039381</td>\n",
       "      <td>81.270911</td>\n",
       "      <td>84.440991</td>\n",
       "      <td>66.562559</td>\n",
       "      <td>95.258090</td>\n",
       "      <td>64.618230</td>\n",
       "      <td>70.714966</td>\n",
       "      <td>69.808803</td>\n",
       "      <td>...</td>\n",
       "      <td>89.438592</td>\n",
       "      <td>95.935644</td>\n",
       "      <td>84.767123</td>\n",
       "      <td>94.673637</td>\n",
       "      <td>74.017993</td>\n",
       "      <td>95.510678</td>\n",
       "      <td>83.989082</td>\n",
       "      <td>94.548359</td>\n",
       "      <td>89.438592</td>\n",
       "      <td>95.808983</td>\n",
       "    </tr>\n",
       "  </tbody>\n",
       "</table>\n",
       "<p>8 rows × 30 columns</p>\n",
       "</div>"
      ],
      "text/plain": [
       "       left_eye_center_x  left_eye_center_y  right_eye_center_x  \\\n",
       "count        7039.000000        7039.000000         7036.000000   \n",
       "mean           66.359021          37.651234           30.306102   \n",
       "std             3.448233           3.152926            3.083230   \n",
       "min            22.763345           1.616512            0.686592   \n",
       "25%            65.082895          35.900451           28.783339   \n",
       "50%            66.497566          37.528055           30.251378   \n",
       "75%            68.024752          39.258449           31.768334   \n",
       "max            94.689280          80.502649           85.039381   \n",
       "\n",
       "       right_eye_center_y  left_eye_inner_corner_x  left_eye_inner_corner_y  \\\n",
       "count         7036.000000              2271.000000              2271.000000   \n",
       "mean            37.976943                59.159339                37.944752   \n",
       "std              3.033621                 2.690354                 2.307332   \n",
       "min              4.091264                19.064954                27.190098   \n",
       "25%             36.327681                58.039339                36.626283   \n",
       "50%             37.813273                59.304615                37.878040   \n",
       "75%             39.566729                60.519810                39.260348   \n",
       "max             81.270911                84.440991                66.562559   \n",
       "\n",
       "       left_eye_outer_corner_x  left_eye_outer_corner_y  \\\n",
       "count              2267.000000              2267.000000   \n",
       "mean                 73.330478                37.707008   \n",
       "std                   3.405852                 2.881438   \n",
       "min                  27.571879                26.250023   \n",
       "25%                  71.716503                36.085523   \n",
       "50%                  73.247824                37.639015   \n",
       "75%                  75.015645                39.373489   \n",
       "max                  95.258090                64.618230   \n",
       "\n",
       "       right_eye_inner_corner_x  right_eye_inner_corner_y  ...   nose_tip_x  \\\n",
       "count               2268.000000               2268.000000  ...  7049.000000   \n",
       "mean                  36.652607                 37.989902  ...    48.374186   \n",
       "std                    2.350268                  2.311907  ...     4.280038   \n",
       "min                    5.751046                 26.250023  ...    12.944699   \n",
       "25%                   35.506126                 36.766783  ...    46.602370   \n",
       "50%                   36.651562                 37.944075  ...    48.424713   \n",
       "75%                   37.753571                 39.192917  ...    50.330437   \n",
       "max                   70.714966                 69.808803  ...    89.438592   \n",
       "\n",
       "        nose_tip_y  mouth_left_corner_x  mouth_left_corner_y  \\\n",
       "count  7049.000000          2269.000000          2269.000000   \n",
       "mean     62.715884            63.285735            75.970714   \n",
       "std       5.720567             4.079063             4.579724   \n",
       "min      17.932414            22.923362            57.023258   \n",
       "25%      59.292697            61.257143            72.875707   \n",
       "50%      63.451421            63.178286            75.778689   \n",
       "75%      66.492686            65.376243            78.879123   \n",
       "max      95.935644            84.767123            94.673637   \n",
       "\n",
       "       mouth_right_corner_x  mouth_right_corner_y  mouth_center_top_lip_x  \\\n",
       "count           2270.000000           2270.000000             2275.000000   \n",
       "mean              32.900404             76.179768               47.975412   \n",
       "std                3.964552              4.417814                3.323060   \n",
       "min                2.245766             56.690208               12.605173   \n",
       "25%               30.797646             73.256472               46.494571   \n",
       "50%               32.982305             76.000592               47.905490   \n",
       "75%               35.101302             78.956357               49.296488   \n",
       "max               74.017993             95.510678               83.989082   \n",
       "\n",
       "       mouth_center_top_lip_y  mouth_center_bottom_lip_x  \\\n",
       "count             2275.000000                7016.000000   \n",
       "mean                72.919443                  48.569472   \n",
       "std                  5.222500                   4.269961   \n",
       "min                 56.719043                  12.536477   \n",
       "25%                 69.396748                  46.573703   \n",
       "50%                 72.605173                  48.594978   \n",
       "75%                 76.221644                  50.677631   \n",
       "max                 94.548359                  89.438592   \n",
       "\n",
       "       mouth_center_bottom_lip_y  \n",
       "count                7016.000000  \n",
       "mean                   78.970146  \n",
       "std                     5.407844  \n",
       "min                    25.850503  \n",
       "25%                    75.549715  \n",
       "50%                    78.696326  \n",
       "75%                    82.233993  \n",
       "max                    95.808983  \n",
       "\n",
       "[8 rows x 30 columns]"
      ]
     },
     "execution_count": 12,
     "metadata": {},
     "output_type": "execute_result"
    }
   ],
   "source": [
    "df_train.describe()"
   ]
  },
  {
   "cell_type": "code",
   "execution_count": 13,
   "id": "c0ae7d8e",
   "metadata": {
    "ExecuteTime": {
     "end_time": "2022-12-30T13:07:47.234599Z",
     "start_time": "2022-12-30T13:07:47.215764Z"
    },
    "colab": {
     "base_uri": "https://localhost:8080/"
    },
    "id": "c0ae7d8e",
    "outputId": "3aa03406-cf2b-4d5e-93c2-a231a9592dca"
   },
   "outputs": [
    {
     "data": {
      "text/plain": [
       "left_eye_center_x              10\n",
       "left_eye_center_y              10\n",
       "right_eye_center_x             13\n",
       "right_eye_center_y             13\n",
       "left_eye_inner_corner_x      4778\n",
       "left_eye_inner_corner_y      4778\n",
       "left_eye_outer_corner_x      4782\n",
       "left_eye_outer_corner_y      4782\n",
       "right_eye_inner_corner_x     4781\n",
       "right_eye_inner_corner_y     4781\n",
       "right_eye_outer_corner_x     4781\n",
       "right_eye_outer_corner_y     4781\n",
       "left_eyebrow_inner_end_x     4779\n",
       "left_eyebrow_inner_end_y     4779\n",
       "left_eyebrow_outer_end_x     4824\n",
       "left_eyebrow_outer_end_y     4824\n",
       "right_eyebrow_inner_end_x    4779\n",
       "right_eyebrow_inner_end_y    4779\n",
       "right_eyebrow_outer_end_x    4813\n",
       "right_eyebrow_outer_end_y    4813\n",
       "nose_tip_x                      0\n",
       "nose_tip_y                      0\n",
       "mouth_left_corner_x          4780\n",
       "mouth_left_corner_y          4780\n",
       "mouth_right_corner_x         4779\n",
       "mouth_right_corner_y         4779\n",
       "mouth_center_top_lip_x       4774\n",
       "mouth_center_top_lip_y       4774\n",
       "mouth_center_bottom_lip_x      33\n",
       "mouth_center_bottom_lip_y      33\n",
       "Image                           0\n",
       "dtype: int64"
      ]
     },
     "execution_count": 13,
     "metadata": {},
     "output_type": "execute_result"
    }
   ],
   "source": [
    "df_train.isnull().sum()"
   ]
  },
  {
   "cell_type": "markdown",
   "id": "u8dwK_OH37jw",
   "metadata": {
    "id": "u8dwK_OH37jw"
   },
   "source": [
    "## Image preprocessing"
   ]
  },
  {
   "cell_type": "markdown",
   "id": "GXuXNhs34RUU",
   "metadata": {
    "id": "GXuXNhs34RUU"
   },
   "source": [
    "First define some helper functions including applying CLAHE histogram equalization."
   ]
  },
  {
   "cell_type": "code",
   "execution_count": 14,
   "id": "jqw6Vmysrrid",
   "metadata": {
    "ExecuteTime": {
     "end_time": "2022-12-30T13:07:51.751512Z",
     "start_time": "2022-12-30T13:07:51.745499Z"
    },
    "id": "jqw6Vmysrrid"
   },
   "outputs": [],
   "source": [
    "def apply_clahe(img_arr):\n",
    "    clahe = cv2.createCLAHE(clipLimit = 3)\n",
    "    final_img = clahe.apply(np.array(img_arr).astype(np.uint8))\n",
    "    return final_img\n",
    "\n",
    "def encode_image(img_arr):\n",
    "    return \" \".join(np.array(img_arr).astype(str).flatten())\n",
    "\n",
    "def decode_image(img_str):\n",
    "    return np.array(img_str.split(' ')).astype(int).reshape(IMAGE_SIZE_WIDTH, IMAGE_SIZE_HEIGHT)"
   ]
  },
  {
   "cell_type": "markdown",
   "id": "cHmTxDue4jbE",
   "metadata": {
    "id": "cHmTxDue4jbE"
   },
   "source": [
    "try out some image processing."
   ]
  },
  {
   "cell_type": "code",
   "execution_count": 15,
   "id": "OzsPQtyvuGJY",
   "metadata": {
    "ExecuteTime": {
     "end_time": "2022-12-30T13:08:10.612866Z",
     "start_time": "2022-12-30T13:08:09.489328Z"
    },
    "colab": {
     "base_uri": "https://localhost:8080/"
    },
    "id": "OzsPQtyvuGJY",
    "outputId": "bfab7187-08e2-49c1-aee0-2c1fdab69a71"
   },
   "outputs": [
    {
     "data": {
      "image/png": "[encoded data removed]",
      "text/plain": [
       "<PIL.Image.Image image mode=L size=96x96>"
      ]
     },
     "metadata": {},
     "output_type": "display_data"
    },
    {
     "data": {
      "image/png": "[encoded data removed]",
      "text/plain": [
       "<PIL.Image.Image image mode=L size=96x96>"
      ]
     },
     "metadata": {},
     "output_type": "display_data"
    },
    {
     "data": {
      "image/png": "[encoded data removed]",
      "text/plain": [
       "<PIL.Image.Image image mode=L size=96x96>"
      ]
     },
     "metadata": {},
     "output_type": "display_data"
    },
    {
     "data": {
      "image/png": "[encoded data removed]",
      "text/plain": [
       "<PIL.Image.Image image mode=L size=96x96>"
      ]
     },
     "metadata": {},
     "output_type": "display_data"
    },
    {
     "data": {
      "image/png": "[encoded data removed]",
      "text/plain": [
       "<PIL.Image.Image image mode=L size=96x96>"
      ]
     },
     "metadata": {},
     "output_type": "display_data"
    },
    {
     "data": {
      "image/png": "[encoded data removed]",
      "text/plain": [
       "<PIL.Image.Image image mode=L size=96x96>"
      ]
     },
     "metadata": {},
     "output_type": "display_data"
    },
    {
     "name": "stderr",
     "output_type": "stream",
     "text": [
      "Warning: QT_DEVICE_PIXEL_RATIO is deprecated. Instead use:\n",
      "   QT_AUTO_SCREEN_SCALE_FACTOR to enable platform plugin controlled per-screen factors.\n",
      "   QT_SCREEN_SCALE_FACTORS to set per-screen DPI.\n",
      "   QT_SCALE_FACTOR to set the application global scale factor.\n",
      "Warning: Ignoring XDG_SESSION_TYPE=wayland on Gnome. Use QT_QPA_PLATFORM=wayland to run on Wayland anyway.\n"
     ]
    }
   ],
   "source": [
    "img_arr = decode_image(df_train.iloc[522,30])\n",
    "img = Image.new(\"L\", (IMAGE_SIZE_HEIGHT, IMAGE_SIZE_WIDTH))\n",
    "pixels = img.load()\n",
    "for i in range(img.size[0]):\n",
    "    for j in range(img.size[1]):\n",
    "        pixels[j, i] = int(img_arr[i][j])\n",
    "\n",
    "# adjust the contrast of the image\n",
    "img_03_contrast = F.adjust_contrast(img, 0.3)\n",
    "img_1_contrast = F.adjust_contrast(img, 1)\n",
    "img_3_contrast = F.adjust_contrast(img, 3)\n",
    "img_6_contrast = F.adjust_contrast(img, 6)\n",
    "\n",
    "# display the contrast adjusted image\n",
    "display(img)\n",
    "display(img_03_contrast)\n",
    "display(img_1_contrast)\n",
    "display(img_3_contrast)\n",
    "display(img_6_contrast)\n",
    "\n",
    "img_norm = F.equalize(img)\n",
    "display(img_norm)\n",
    "\n",
    "clahe = cv2.createCLAHE(clipLimit = 3, tileGridSize=(8,8))\n",
    "final_img = clahe.apply(np.array(img_arr).astype(np.uint8))\n",
    "cv2.imshow(\"clahe\", final_img)\n",
    "cv2.waitKey(0)\n",
    "cv2.destroyAllWindows()"
   ]
  },
  {
   "cell_type": "markdown",
   "id": "2m7qsiL54yGu",
   "metadata": {
    "id": "2m7qsiL54yGu"
   },
   "source": [
    "CLAHE seems to have best results. Let's adjust all images in *df_train*."
   ]
  },
  {
   "cell_type": "code",
   "execution_count": 16,
   "id": "dQYVxq57sm6y",
   "metadata": {
    "ExecuteTime": {
     "end_time": "2022-12-30T13:09:25.171096Z",
     "start_time": "2022-12-30T13:08:14.682918Z"
    },
    "id": "dQYVxq57sm6y"
   },
   "outputs": [],
   "source": [
    "images_str = df_train.Image\n",
    "clahe_images_str = []\n",
    "\n",
    "for img_str in images_str:\n",
    "    clahe_images_str.append(encode_image(apply_clahe(decode_image(img_str))))\n",
    "\n",
    "df_train[\"Image\"] = clahe_images_str"
   ]
  },
  {
   "cell_type": "markdown",
   "id": "SyDegPz45qb6",
   "metadata": {
    "id": "SyDegPz45qb6"
   },
   "source": [
    "For *df_test* as well."
   ]
  },
  {
   "cell_type": "code",
   "execution_count": 17,
   "id": "-SRv5I3zvqVr",
   "metadata": {
    "ExecuteTime": {
     "end_time": "2022-12-30T13:09:43.098385Z",
     "start_time": "2022-12-30T13:09:25.173562Z"
    },
    "id": "-SRv5I3zvqVr"
   },
   "outputs": [],
   "source": [
    "images_str = df_test.Image\n",
    "clahe_images_str = []\n",
    "\n",
    "for img_str in images_str:\n",
    "    clahe_images_str.append(encode_image(apply_clahe(decode_image(img_str))))\n",
    "\n",
    "df_test[\"Image\"] = clahe_images_str"
   ]
  },
  {
   "cell_type": "markdown",
   "id": "0sPEu6yPt3mS",
   "metadata": {
    "id": "0sPEu6yPt3mS"
   },
   "source": [
    "## Data Augmentation"
   ]
  },
  {
   "cell_type": "markdown",
   "id": "W1Ep3ivQQaBD",
   "metadata": {
    "id": "W1Ep3ivQQaBD"
   },
   "source": [
    "Dataset contains small fully labeled record so I will add verticaly flipped images and double the dataset."
   ]
  },
  {
   "cell_type": "code",
   "execution_count": 18,
   "id": "RnJn6UDUt7F6",
   "metadata": {
    "ExecuteTime": {
     "end_time": "2022-12-30T13:20:37.153450Z",
     "start_time": "2022-12-30T13:20:37.132752Z"
    },
    "id": "RnJn6UDUt7F6"
   },
   "outputs": [],
   "source": [
    "def encoded_images_to_2darray(encoded_images):\n",
    "    \"\"\"decodes image from string to 2d array of integers\"\"\"\n",
    "    images = []\n",
    "    for e_i in encoded_images:\n",
    "        e_i = list(map(lambda x: int(x), e_i.split(' ')))\n",
    "        d_i = split(e_i, IMAGE_SIZE_WIDTH)\n",
    "        images.append(d_i)\n",
    "    return images\n",
    "\n",
    "def switch_vertically(df):\n",
    "  new_df = df.copy()\n",
    "\n",
    "  # # flip images vertically\n",
    "  img_arr = encoded_images_to_2darray(df.Image.tolist())\n",
    "  flipped_arr = np.flip(img_arr, axis=2).astype(str)\n",
    "  encoded_arr = [\" \".join([\" \".join(r) for r in img]) for img in flipped_arr]\n",
    "\n",
    "  for i, r in df.iterrows():\n",
    "    keypoints = r.values.tolist()[0:-1]\n",
    "    switched_arr = [(f if i%2 == 1 else IMAGE_SIZE_WIDTH/2 - (f - IMAGE_SIZE_WIDTH/2 + 1) ) for i, f in enumerate(keypoints)]\n",
    "    switched_arr.append(encoded_arr[i])\n",
    "    \n",
    "    # switch sites\n",
    "    new_record = switched_arr.copy()\n",
    "    new_record[0] ,new_record[2] = switched_arr[2], switched_arr[0]\n",
    "    new_record[1] ,new_record[3] = switched_arr[3], switched_arr[1]\n",
    "    new_record[4] ,new_record[8] = switched_arr[8], switched_arr[4]\n",
    "    new_record[5] ,new_record[9] = switched_arr[9], switched_arr[5]\n",
    "    new_record[6] ,new_record[10] = switched_arr[10], switched_arr[6]\n",
    "    new_record[7] ,new_record[11] = switched_arr[11], switched_arr[7]\n",
    "    new_record[12] ,new_record[16] = switched_arr[16], switched_arr[12]\n",
    "    new_record[13] ,new_record[17] = switched_arr[17], switched_arr[13]\n",
    "    new_record[14] ,new_record[18] = switched_arr[18], switched_arr[14]\n",
    "    new_record[15] ,new_record[19] = switched_arr[19], switched_arr[15]\n",
    "    new_record[22] ,new_record[24] = switched_arr[24], switched_arr[22]\n",
    "    new_record[23] ,new_record[25] = switched_arr[25], switched_arr[23]\n",
    "\n",
    "    new_df.iloc[i] = new_record\n",
    "\n",
    "  return new_df"
   ]
  },
  {
   "cell_type": "markdown",
   "id": "-OXR8kRPQUmb",
   "metadata": {
    "id": "-OXR8kRPQUmb"
   },
   "source": [
    "Now let's create augmented data"
   ]
  },
  {
   "cell_type": "code",
   "execution_count": 19,
   "id": "ZaQODurV1N8z",
   "metadata": {
    "ExecuteTime": {
     "end_time": "2022-12-30T13:22:04.940815Z",
     "start_time": "2022-12-30T13:20:38.740662Z"
    },
    "colab": {
     "base_uri": "https://localhost:8080/"
    },
    "id": "ZaQODurV1N8z",
    "outputId": "f640ab49-22fd-4b25-dee5-3a9df7313a99"
   },
   "outputs": [
    {
     "name": "stderr",
     "output_type": "stream",
     "text": [
      "/tmp/ipykernel_52848/3542175422.py:3: FutureWarning: The frame.append method is deprecated and will be removed from pandas in a future version. Use pandas.concat instead.\n",
      "  df_aug_train = df_aug_train.append(df_train)\n"
     ]
    },
    {
     "data": {
      "image/png": "[encoded data removed]",
      "text/plain": [
       "<PIL.Image.Image image mode=RGB size=96x96>"
      ]
     },
     "metadata": {},
     "output_type": "display_data"
    }
   ],
   "source": [
    "# create vertically flipped augmented data + append them to original ones\n",
    "df_aug_train = switch_vertically(df_train)\n",
    "df_aug_train = df_aug_train.append(df_train)\n",
    "\n",
    "# display example of flipped image\n",
    "img = draw_predicted_target(encoded_images_to_2darray([df_aug_train.iloc[0].values.tolist()[30]])[0],\n",
    "                      list(zip(df_aug_train.iloc[0].values.tolist()[0:-1:2], df_aug_train.iloc[0].values.tolist()[1:-1:2])),\n",
    "                      [])\n",
    "display(img)"
   ]
  },
  {
   "cell_type": "markdown",
   "id": "V481jQ_rQrny",
   "metadata": {
    "id": "V481jQ_rQrny"
   },
   "source": [
    "Now data are double size\n"
   ]
  },
  {
   "cell_type": "code",
   "execution_count": 20,
   "id": "zuXCNXhlQAHT",
   "metadata": {
    "ExecuteTime": {
     "end_time": "2022-12-30T13:22:05.028734Z",
     "start_time": "2022-12-30T13:22:04.999686Z"
    },
    "colab": {
     "base_uri": "https://localhost:8080/"
    },
    "id": "zuXCNXhlQAHT",
    "outputId": "ae8a0c9b-cfe9-4b54-9e47-0599311255c1"
   },
   "outputs": [
    {
     "data": {
      "text/plain": [
       "(14098, 31)"
      ]
     },
     "execution_count": 20,
     "metadata": {},
     "output_type": "execute_result"
    }
   ],
   "source": [
    "df_aug_train.shape"
   ]
  },
  {
   "cell_type": "markdown",
   "id": "bc8a6c8e",
   "metadata": {
    "id": "bc8a6c8e"
   },
   "source": [
    "## Prepare data"
   ]
  },
  {
   "cell_type": "code",
   "execution_count": 21,
   "id": "a33da556",
   "metadata": {
    "ExecuteTime": {
     "end_time": "2022-12-30T13:22:16.253711Z",
     "start_time": "2022-12-30T13:22:05.031681Z"
    },
    "id": "a33da556"
   },
   "outputs": [],
   "source": [
    "# declare batch size\n",
    "BATCH_SIZE = 256\n",
    "# declare which dataset will be used \n",
    "df_dataset = df_aug_train\n",
    "# -----------------------------------\n",
    "\n",
    "# get non null values of trainin dataset\n",
    "df_train_data = df_dataset[~df_dataset.isnull().any(axis=1)]\n",
    "X = df_train_data[\"Image\"].values.tolist()\n",
    "y = np.array(df_train_data.iloc[:, df_train.columns != \"Image\"])\n",
    "\n",
    "# split to train and validation sets\n",
    "X_train, X_validation, y_train, y_validation = train_test_split(X, y, test_size=0.3, train_size=0.7)\n",
    "\n",
    "# save temporary data\n",
    "X_train = np.array(encoded_images_to_2darray(X_train))\n",
    "X_validation = np.array(encoded_images_to_2darray(X_validation))\n",
    "y_train = np.array(y_train).astype(int) # list(map(lambda x: int(x), y_train)),\n",
    "y_validation = np.array(y_validation).astype(int) # list(map(lambda x: int(x), y_validation))\n",
    "\n",
    "\n",
    "dataset_train = TensorDataset(torch.Tensor(X_train), torch.Tensor(y_train))\n",
    "dataset_validation = TensorDataset(torch.Tensor(X_validation), torch.Tensor(y_validation))\n",
    "\n",
    "dataloader_train = DataLoader(dataset_train, BATCH_SIZE)\n",
    "dataloader_validation = DataLoader(dataset_validation, BATCH_SIZE)"
   ]
  },
  {
   "cell_type": "code",
   "execution_count": 22,
   "id": "Uie2YsBOCToo",
   "metadata": {
    "ExecuteTime": {
     "end_time": "2022-12-30T13:22:16.275443Z",
     "start_time": "2022-12-30T13:22:16.269946Z"
    },
    "colab": {
     "base_uri": "https://localhost:8080/"
    },
    "id": "Uie2YsBOCToo",
    "outputId": "59ce03ab-64e4-47a2-eac6-94780d95facd"
   },
   "outputs": [
    {
     "name": "stdout",
     "output_type": "stream",
     "text": [
      "Train dataset size: 2996\n",
      "Validation dataset size: 1284\n"
     ]
    }
   ],
   "source": [
    "print(\"Train dataset size:\", X_train.shape[0])\n",
    "print(\"Validation dataset size:\", X_validation.shape[0])"
   ]
  },
  {
   "cell_type": "markdown",
   "id": "dd68e398",
   "metadata": {
    "id": "dd68e398"
   },
   "source": [
    "## PyTorch DL architecures"
   ]
  },
  {
   "cell_type": "markdown",
   "id": "3b721ab4",
   "metadata": {
    "id": "3b721ab4"
   },
   "source": [
    "create CNN architecture"
   ]
  },
  {
   "cell_type": "code",
   "execution_count": 23,
   "id": "2626c706",
   "metadata": {
    "ExecuteTime": {
     "end_time": "2022-12-30T13:34:14.633657Z",
     "start_time": "2022-12-30T13:34:14.491363Z"
    },
    "id": "2626c706"
   },
   "outputs": [],
   "source": [
    "class CNN(nn.Module):\n",
    "    def __init__(self):\n",
    "        super().__init__()\n",
    "        self.conv1 = nn.Sequential(\n",
    "            nn.Conv2d(\n",
    "                in_channels=1,\n",
    "                out_channels=32,\n",
    "                kernel_size=3,\n",
    "                stride=1,\n",
    "                padding=1\n",
    "            ),\n",
    "            nn.ReLU(),\n",
    "            nn.MaxPool2d(kernel_size=2)\n",
    "        )\n",
    "        self.conv2 = nn.Sequential(\n",
    "            nn.Conv2d(\n",
    "                in_channels=32,\n",
    "                out_channels=64,\n",
    "                kernel_size=3,\n",
    "                stride=1,\n",
    "                padding=1\n",
    "            ),\n",
    "            nn.ReLU(),\n",
    "            nn.MaxPool2d(kernel_size=2)\n",
    "        )\n",
    "        self.conv3 = nn.Sequential(\n",
    "            nn.Conv2d(\n",
    "                in_channels=64,\n",
    "                out_channels=128,\n",
    "                kernel_size=3,\n",
    "                stride=1,\n",
    "                padding=1\n",
    "            ),\n",
    "            nn.ReLU(),\n",
    "            nn.MaxPool2d(kernel_size=2)\n",
    "        )\n",
    "        self.conv4 = nn.Sequential(\n",
    "            nn.Conv2d(\n",
    "                in_channels=128,\n",
    "                out_channels=256,\n",
    "                kernel_size=3,\n",
    "                stride=1,\n",
    "                padding=1\n",
    "            ),\n",
    "            nn.ReLU(),\n",
    "            nn.MaxPool2d(kernel_size=2)\n",
    "        )\n",
    "        self.flatten = nn.Flatten()\n",
    "        self.linear = nn.Linear(128*12*12, 30)\n",
    "        self.relu = nn.ReLU()\n",
    "\n",
    "    def forward(self, x):\n",
    "        x = self.conv1(x)\n",
    "        x = self.conv2(x)\n",
    "        x = self.conv3(x)\n",
    "        x = self.flatten(x)\n",
    "        x = self.relu(self.linear(x))\n",
    "\n",
    "        return x"
   ]
  },
  {
   "cell_type": "markdown",
   "id": "yX3b1qn6RfY5",
   "metadata": {
    "id": "yX3b1qn6RfY5"
   },
   "source": [
    "create ResNet architecture"
   ]
  },
  {
   "cell_type": "code",
   "execution_count": 24,
   "id": "DifKUmPKRhwA",
   "metadata": {
    "ExecuteTime": {
     "end_time": "2022-12-30T13:34:22.876248Z",
     "start_time": "2022-12-30T13:34:22.846274Z"
    },
    "id": "DifKUmPKRhwA"
   },
   "outputs": [],
   "source": [
    "class ResidualBlock(nn.Module):\n",
    "    def __init__(self, in_channels, out_channels, stride = 1, downsample = None):\n",
    "        super(ResidualBlock, self).__init__()\n",
    "        self.conv1 = nn.Sequential(\n",
    "                        nn.Conv2d(in_channels, out_channels, kernel_size = 3, stride = stride, padding = 1),\n",
    "                        nn.BatchNorm2d(out_channels),\n",
    "                        nn.ReLU())\n",
    "        self.conv2 = nn.Sequential(\n",
    "                        nn.Conv2d(out_channels, out_channels, kernel_size = 3, stride = 1, padding = 1),\n",
    "                        nn.BatchNorm2d(out_channels),\n",
    "                        nn.ReLU())\n",
    "        self.downsample = downsample\n",
    "        self.relu = nn.ReLU()\n",
    "        self.out_channels = out_channels\n",
    "        \n",
    "    def forward(self, x):\n",
    "        residual = x\n",
    "        out = self.conv1(x)\n",
    "        out = self.conv2(out)\n",
    "        if self.downsample:\n",
    "            residual = self.downsample(x)\n",
    "        # out += residual\n",
    "        out = out.clone() + residual\n",
    "        out = self.relu(out)\n",
    "        return out\n",
    "\n",
    "\n",
    "class ResNet(nn.Module):\n",
    "    def __init__(self, block, layers, out_features = 30):\n",
    "        super(ResNet, self).__init__()\n",
    "        self.inplanes = 64\n",
    "        self.conv1 = nn.Sequential(\n",
    "                        nn.Conv2d(1, 64, kernel_size = 7, stride = 2, padding = 3),\n",
    "                        nn.BatchNorm2d(64),\n",
    "                        nn.ReLU())\n",
    "        self.maxpool = nn.MaxPool2d(kernel_size = 3, stride = 2, padding = 1)\n",
    "        self.layer0 = self._make_layer(block, 64, layers[0], stride = 1)\n",
    "        self.layer1 = self._make_layer(block, 128, layers[1], stride = 2)\n",
    "        self.layer2 = self._make_layer(block, 256, layers[2], stride = 2)\n",
    "        self.layer3 = self._make_layer(block, 512, layers[3], stride = 2)\n",
    "        self.avgpool = nn.AvgPool2d(7, stride=1, padding=3)\n",
    "        self.fc = nn.Linear(512*3*3, out_features)\n",
    "        \n",
    "    def _make_layer(self, block, planes, blocks, stride=1):\n",
    "        downsample = None\n",
    "        if stride != 1 or self.inplanes != planes:\n",
    "            \n",
    "            downsample = nn.Sequential(\n",
    "                nn.Conv2d(self.inplanes, planes, kernel_size=1, stride=stride),\n",
    "                nn.BatchNorm2d(planes),\n",
    "            )\n",
    "        layers = []\n",
    "        layers.append(block(self.inplanes, planes, stride, downsample))\n",
    "        self.inplanes = planes\n",
    "        for i in range(1, blocks):\n",
    "            layers.append(block(self.inplanes, planes))\n",
    "\n",
    "        return nn.Sequential(*layers)\n",
    "    \n",
    "    \n",
    "    def forward(self, x):\n",
    "        x = self.conv1(x)\n",
    "        x = self.maxpool(x)\n",
    "        x = self.layer0(x)\n",
    "        x = self.layer1(x)\n",
    "        x = self.layer2(x)\n",
    "        x = self.layer3(x)\n",
    "\n",
    "        x = self.avgpool(x)\n",
    "        x = x.view(x.size(0), -1)\n",
    "        x = self.fc(x)\n",
    "\n",
    "        return x"
   ]
  },
  {
   "cell_type": "markdown",
   "id": "4f4ffd48",
   "metadata": {
    "id": "4f4ffd48"
   },
   "source": [
    "define training function"
   ]
  },
  {
   "cell_type": "code",
   "execution_count": 25,
   "id": "b84ac9f8",
   "metadata": {
    "ExecuteTime": {
     "end_time": "2022-12-30T13:34:39.740070Z",
     "start_time": "2022-12-30T13:34:39.729885Z"
    },
    "id": "b84ac9f8"
   },
   "outputs": [],
   "source": [
    "def train_single_epoch(model, train_dataloader, loss_fn, optimiser, device, validation_dataloader):\n",
    "    # TRAIN LOSS + BACKPROPAGATION\n",
    "    train_loss = 0\n",
    "    num_batches = 0\n",
    "    for X, y in train_dataloader:\n",
    "        X, y = X.to(device), y.to(device)\n",
    "\n",
    "        X = torch.unsqueeze(X, dim=1)\n",
    "\n",
    "        # calculate loss\n",
    "        prediction = model(X)\n",
    "        _loss = loss_fn(prediction, y)\n",
    "        train_loss += _loss.item()\n",
    "        \n",
    "        # reset gradient\n",
    "        optimiser.zero_grad()\n",
    "        \n",
    "        # backporpagation\n",
    "        _loss.backward()\n",
    "        \n",
    "        # update parameters\n",
    "        optimiser.step()\n",
    "        \n",
    "        num_batches += 1\n",
    "    train_loss = train_loss / num_batches\n",
    "    print(f\"train loss: {train_loss}\")\n",
    "\n",
    "    # VALIDATION LOSS\n",
    "    validation_loss = 0\n",
    "    num_batches = 0\n",
    "    for X, y in validation_dataloader:\n",
    "        X, y = X.to(device), y.to(device)\n",
    "\n",
    "        X = torch.unsqueeze(X, dim=1)\n",
    "\n",
    "        # calculate loss\n",
    "        prediction = model(X)\n",
    "        validation_loss += loss_fn(prediction, y).item()\n",
    "        \n",
    "        num_batches += 1\n",
    "    validation_loss = validation_loss / num_batches\n",
    "    print(f\"validation loss: {validation_loss}\")\n",
    "    \n",
    "    return (train_loss, validation_loss)\n",
    "    \n",
    "def train(model, train_dataloader, loss_fn, optimiser, device, epochs, validation_dataloader):\n",
    "    loss_history = []\n",
    "    for i in range(epochs):\n",
    "        print(f\"Epoch {i + 1}\")\n",
    "        loss = train_single_epoch(model, train_dataloader, loss_fn, optimiser, device, validation_dataloader)\n",
    "        print(\"--------------------------\")\n",
    "        loss_history.append(loss)\n",
    "    print(\"==========================\")\n",
    "    print(\"Training done\")\n",
    "    \n",
    "    return loss_history"
   ]
  },
  {
   "cell_type": "markdown",
   "id": "7f9dc092",
   "metadata": {
    "id": "7f9dc092"
   },
   "source": [
    "define predictions"
   ]
  },
  {
   "cell_type": "code",
   "execution_count": 26,
   "id": "cf2e6551",
   "metadata": {
    "ExecuteTime": {
     "end_time": "2022-12-30T13:34:43.515085Z",
     "start_time": "2022-12-30T13:34:43.510110Z"
    },
    "id": "cf2e6551"
   },
   "outputs": [],
   "source": [
    "def predict(model, x):\n",
    "    model.eval()\n",
    "    with torch.no_grad():\n",
    "        x = x.to(device)\n",
    "        predictions = model(x)\n",
    "        predicted_point = predictions[0]\n",
    "        \n",
    "    return predicted_point"
   ]
  },
  {
   "cell_type": "markdown",
   "id": "22x0tq-oSlPM",
   "metadata": {
    "id": "22x0tq-oSlPM"
   },
   "source": [
    "define function for ploting loss history"
   ]
  },
  {
   "cell_type": "code",
   "execution_count": 27,
   "id": "CMGhmJel9q-f",
   "metadata": {
    "ExecuteTime": {
     "end_time": "2022-12-30T13:34:45.804742Z",
     "start_time": "2022-12-30T13:34:45.800864Z"
    },
    "id": "CMGhmJel9q-f"
   },
   "outputs": [],
   "source": [
    "def plot_line_graph(data,  legend=['train', 'validation'], y_scale_type='log'):\n",
    "    # summarize history for model loss\n",
    "    for g in data:      \n",
    "      plt.plot(g)\n",
    "  \n",
    "    plt.title('model loss')\n",
    "    plt.ylabel('MSE')\n",
    "    plt.xlabel('epoch')\n",
    "    plt.legend(legend, loc='upper left')\n",
    "    plt.yscale(y_scale_type)\n",
    "    plt.show()"
   ]
  },
  {
   "cell_type": "markdown",
   "id": "ToKsvcEVSq1E",
   "metadata": {
    "id": "ToKsvcEVSq1E"
   },
   "source": [
    "define function for saving model"
   ]
  },
  {
   "cell_type": "code",
   "execution_count": 28,
   "id": "hN1ZGMB-K4Fu",
   "metadata": {
    "ExecuteTime": {
     "end_time": "2022-12-30T13:34:48.134509Z",
     "start_time": "2022-12-30T13:34:48.122595Z"
    },
    "id": "hN1ZGMB-K4Fu"
   },
   "outputs": [],
   "source": [
    "def save_model(model, model_description=\"\"):\n",
    "    # prepare folder for models\n",
    "    folder_path = \"models/\"\n",
    "    model_name = model.__class__.__name__ + datetime.datetime.now().strftime(\"%y:%m:%d:%H:%M:%S\") + model_description\n",
    "    create_folder(folder_path)\n",
    "\n",
    "    # save model\n",
    "    file_path = folder_path + \"/\" + model_name + \".pth\"\n",
    "    torch.save(model.state_dict(), file_path)\n",
    "        \n",
    "    # save loss history\n",
    "    file_content = \"\\n\".join(list(map(lambda x: x[0] + \" \" + x[1], np.array(loss_history).astype(str))))\n",
    "    file_path = folder_path + \"/\" + \"loss_history_\" + model_name + \".txt\"\n",
    "    with open(file_path, \"w\") as f:\n",
    "        f.write(file_content)"
   ]
  },
  {
   "cell_type": "markdown",
   "id": "LnsCWECA6WF3",
   "metadata": {
    "id": "LnsCWECA6WF3"
   },
   "source": [
    "define function for adding dropout"
   ]
  },
  {
   "cell_type": "code",
   "execution_count": 29,
   "id": "aAE6dWKb6alT",
   "metadata": {
    "ExecuteTime": {
     "end_time": "2022-12-30T13:34:51.818517Z",
     "start_time": "2022-12-30T13:34:51.785394Z"
    },
    "id": "aAE6dWKb6alT"
   },
   "outputs": [],
   "source": [
    "def append_dropout(model, rate=0.2):\n",
    "    for name, module in model.named_children():\n",
    "        if len(list(module.children())) > 0:\n",
    "            append_dropout(module)\n",
    "        if isinstance(module, nn.ReLU):\n",
    "            new = nn.Sequential(module, nn.Dropout2d(p=rate, inplace=True))\n",
    "            setattr(model, name, new)"
   ]
  },
  {
   "cell_type": "markdown",
   "id": "MnKyF1iJsRUn",
   "metadata": {
    "id": "MnKyF1iJsRUn"
   },
   "source": [
    "## Train models"
   ]
  },
  {
   "cell_type": "markdown",
   "id": "7e7706df",
   "metadata": {
    "id": "7e7706df"
   },
   "source": [
    "Let's train model"
   ]
  },
  {
   "cell_type": "code",
   "execution_count": 30,
   "id": "f5a4b06d",
   "metadata": {
    "ExecuteTime": {
     "end_time": "2022-12-30T14:30:58.481862Z",
     "start_time": "2022-12-30T13:34:56.793687Z"
    },
    "colab": {
     "background_save": true,
     "base_uri": "https://localhost:8080/"
    },
    "id": "f5a4b06d",
    "outputId": "c00d4a25-3a9e-45f6-b23c-b72cb93fc223"
   },
   "outputs": [
    {
     "name": "stdout",
     "output_type": "stream",
     "text": [
      "Using cpu \n",
      "\n",
      "=======================================\n",
      "TRAINING\n",
      "=======================================\n",
      "Epoch 1\n",
      "train loss: 578.5993734995524\n",
      "validation loss: 94.47935740152995\n",
      "--------------------------\n",
      "Epoch 2\n",
      "train loss: 45.006576220194496\n",
      "validation loss: 26.321322441101074\n",
      "--------------------------\n",
      "Epoch 3\n",
      "train loss: 19.46758286158244\n",
      "validation loss: 14.174842834472656\n",
      "--------------------------\n",
      "Epoch 4\n",
      "train loss: 13.313027938206991\n",
      "validation loss: 11.97612714767456\n",
      "--------------------------\n",
      "Epoch 5\n",
      "train loss: 10.774020512898764\n",
      "validation loss: 10.224736213684082\n",
      "--------------------------\n",
      "Epoch 6\n",
      "train loss: 10.186775048573812\n",
      "validation loss: 10.119597911834717\n",
      "--------------------------\n",
      "Epoch 7\n",
      "train loss: 9.920160373051962\n",
      "validation loss: 9.951008637746176\n",
      "--------------------------\n",
      "Epoch 8\n",
      "train loss: 9.861344257990519\n",
      "validation loss: 9.938390254974365\n",
      "--------------------------\n",
      "Epoch 9\n",
      "train loss: 9.791121482849121\n",
      "validation loss: 9.885334332784018\n",
      "--------------------------\n",
      "Epoch 10\n",
      "train loss: 9.755685408910116\n",
      "validation loss: 9.876071453094482\n",
      "--------------------------\n",
      "Epoch 11\n",
      "train loss: 9.721692403157553\n",
      "validation loss: 9.856096744537354\n",
      "--------------------------\n",
      "Epoch 12\n",
      "train loss: 9.68280561765035\n",
      "validation loss: 9.840160369873047\n",
      "--------------------------\n",
      "Epoch 13\n",
      "train loss: 9.6466912428538\n",
      "validation loss: 9.830451647440592\n",
      "--------------------------\n",
      "Epoch 14\n",
      "train loss: 9.600103060404459\n",
      "validation loss: 9.798161824544271\n",
      "--------------------------\n",
      "Epoch 15\n",
      "train loss: 9.551622788111368\n",
      "validation loss: 9.733042399088541\n",
      "--------------------------\n",
      "Epoch 16\n",
      "train loss: 9.498497247695923\n",
      "validation loss: 9.69646660486857\n",
      "--------------------------\n",
      "Epoch 17\n",
      "train loss: 9.449180205663046\n",
      "validation loss: 9.6632186571757\n",
      "--------------------------\n",
      "Epoch 18\n",
      "train loss: 9.387396891911825\n",
      "validation loss: 9.582412242889404\n",
      "--------------------------\n",
      "Epoch 19\n",
      "train loss: 9.326018253962198\n",
      "validation loss: 9.495287895202637\n",
      "--------------------------\n",
      "Epoch 20\n",
      "train loss: 9.241944154103598\n",
      "validation loss: 9.443159421284994\n",
      "--------------------------\n",
      "Epoch 21\n",
      "train loss: 9.182181040445963\n",
      "validation loss: 9.396607557932535\n",
      "--------------------------\n",
      "Epoch 22\n",
      "train loss: 9.075449466705322\n",
      "validation loss: 9.326165517171225\n",
      "--------------------------\n",
      "Epoch 23\n",
      "train loss: 8.909602403640747\n",
      "validation loss: 9.193861961364746\n",
      "--------------------------\n",
      "Epoch 24\n",
      "train loss: 8.74972120920817\n",
      "validation loss: 9.023956139882406\n",
      "--------------------------\n",
      "Epoch 25\n",
      "train loss: 8.628913720448812\n",
      "validation loss: 8.834509213765463\n",
      "--------------------------\n",
      "Epoch 26\n",
      "train loss: 8.487352093060812\n",
      "validation loss: 8.656182289123535\n",
      "--------------------------\n",
      "Epoch 27\n",
      "train loss: 8.358349760373434\n",
      "validation loss: 8.575135707855225\n",
      "--------------------------\n",
      "Epoch 28\n",
      "train loss: 8.12939969698588\n",
      "validation loss: 8.520355860392252\n",
      "--------------------------\n",
      "Epoch 29\n",
      "train loss: 7.9432359139124555\n",
      "validation loss: 8.46268860499064\n",
      "--------------------------\n",
      "Epoch 30\n",
      "train loss: 7.883018136024475\n",
      "validation loss: 8.228460868199667\n",
      "--------------------------\n",
      "Epoch 31\n",
      "train loss: 7.657456080118815\n",
      "validation loss: 8.2613046169281\n",
      "--------------------------\n",
      "Epoch 32\n",
      "train loss: 7.376883586247762\n",
      "validation loss: 7.572043259938558\n",
      "--------------------------\n",
      "Epoch 33\n",
      "train loss: 7.316537022590637\n",
      "validation loss: 7.6982879638671875\n",
      "--------------------------\n",
      "Epoch 34\n",
      "train loss: 7.019513924916585\n",
      "validation loss: 7.1267828941345215\n",
      "--------------------------\n",
      "Epoch 35\n",
      "train loss: 6.31388243039449\n",
      "validation loss: 6.69985016187032\n",
      "--------------------------\n",
      "Epoch 36\n",
      "train loss: 5.7278711795806885\n",
      "validation loss: 6.522750616073608\n",
      "--------------------------\n",
      "Epoch 37\n"
     ]
    },
    {
     "ename": "KeyboardInterrupt",
     "evalue": "",
     "output_type": "error",
     "traceback": [
      "\u001b[0;31m---------------------------------------------------------------------------\u001b[0m",
      "\u001b[0;31mKeyboardInterrupt\u001b[0m                         Traceback (most recent call last)",
      "Cell \u001b[0;32mIn[30], line 26\u001b[0m\n\u001b[1;32m     23\u001b[0m optimiser \u001b[38;5;241m=\u001b[39m torch\u001b[38;5;241m.\u001b[39moptim\u001b[38;5;241m.\u001b[39mAdam(model\u001b[38;5;241m.\u001b[39mparameters(), lr\u001b[38;5;241m=\u001b[39mLEARNING_RATE)\n\u001b[1;32m     25\u001b[0m \u001b[38;5;66;03m# train model\u001b[39;00m\n\u001b[0;32m---> 26\u001b[0m loss_history \u001b[38;5;241m=\u001b[39m \u001b[43mtrain\u001b[49m\u001b[43m(\u001b[49m\u001b[43mmodel\u001b[49m\u001b[43m,\u001b[49m\u001b[43m \u001b[49m\u001b[43mdataloader_train\u001b[49m\u001b[43m,\u001b[49m\u001b[43m \u001b[49m\u001b[43mloss_fn\u001b[49m\u001b[43m,\u001b[49m\u001b[43m \u001b[49m\u001b[43moptimiser\u001b[49m\u001b[43m,\u001b[49m\u001b[43m \u001b[49m\u001b[43mdevice\u001b[49m\u001b[43m,\u001b[49m\u001b[43m \u001b[49m\u001b[43mEPOCHS\u001b[49m\u001b[43m,\u001b[49m\u001b[43m \u001b[49m\u001b[43mdataloader_validation\u001b[49m\u001b[43m)\u001b[49m\n\u001b[1;32m     28\u001b[0m \u001b[38;5;66;03m# plot graph\u001b[39;00m\n\u001b[1;32m     29\u001b[0m plot_line_graph(\u001b[38;5;28mlist\u001b[39m(\u001b[38;5;28mmap\u001b[39m(\u001b[38;5;28mlist\u001b[39m, \u001b[38;5;28mzip\u001b[39m(\u001b[38;5;241m*\u001b[39mloss_history))))\n",
      "Cell \u001b[0;32mIn[25], line 50\u001b[0m, in \u001b[0;36mtrain\u001b[0;34m(model, train_dataloader, loss_fn, optimiser, device, epochs, validation_dataloader)\u001b[0m\n\u001b[1;32m     48\u001b[0m \u001b[38;5;28;01mfor\u001b[39;00m i \u001b[38;5;129;01min\u001b[39;00m \u001b[38;5;28mrange\u001b[39m(epochs):\n\u001b[1;32m     49\u001b[0m     \u001b[38;5;28mprint\u001b[39m(\u001b[38;5;124mf\u001b[39m\u001b[38;5;124m\"\u001b[39m\u001b[38;5;124mEpoch \u001b[39m\u001b[38;5;132;01m{\u001b[39;00mi \u001b[38;5;241m+\u001b[39m \u001b[38;5;241m1\u001b[39m\u001b[38;5;132;01m}\u001b[39;00m\u001b[38;5;124m\"\u001b[39m)\n\u001b[0;32m---> 50\u001b[0m     loss \u001b[38;5;241m=\u001b[39m \u001b[43mtrain_single_epoch\u001b[49m\u001b[43m(\u001b[49m\u001b[43mmodel\u001b[49m\u001b[43m,\u001b[49m\u001b[43m \u001b[49m\u001b[43mtrain_dataloader\u001b[49m\u001b[43m,\u001b[49m\u001b[43m \u001b[49m\u001b[43mloss_fn\u001b[49m\u001b[43m,\u001b[49m\u001b[43m \u001b[49m\u001b[43moptimiser\u001b[49m\u001b[43m,\u001b[49m\u001b[43m \u001b[49m\u001b[43mdevice\u001b[49m\u001b[43m,\u001b[49m\u001b[43m \u001b[49m\u001b[43mvalidation_dataloader\u001b[49m\u001b[43m)\u001b[49m\n\u001b[1;32m     51\u001b[0m     \u001b[38;5;28mprint\u001b[39m(\u001b[38;5;124m\"\u001b[39m\u001b[38;5;124m--------------------------\u001b[39m\u001b[38;5;124m\"\u001b[39m)\n\u001b[1;32m     52\u001b[0m     loss_history\u001b[38;5;241m.\u001b[39mappend(loss)\n",
      "Cell \u001b[0;32mIn[25], line 19\u001b[0m, in \u001b[0;36mtrain_single_epoch\u001b[0;34m(model, train_dataloader, loss_fn, optimiser, device, validation_dataloader)\u001b[0m\n\u001b[1;32m     16\u001b[0m optimiser\u001b[38;5;241m.\u001b[39mzero_grad()\n\u001b[1;32m     18\u001b[0m \u001b[38;5;66;03m# backporpagation\u001b[39;00m\n\u001b[0;32m---> 19\u001b[0m \u001b[43m_loss\u001b[49m\u001b[38;5;241;43m.\u001b[39;49m\u001b[43mbackward\u001b[49m\u001b[43m(\u001b[49m\u001b[43m)\u001b[49m\n\u001b[1;32m     21\u001b[0m \u001b[38;5;66;03m# update parameters\u001b[39;00m\n\u001b[1;32m     22\u001b[0m optimiser\u001b[38;5;241m.\u001b[39mstep()\n",
      "File \u001b[0;32m~/fit/ni/mvi/mvi-sp/venv/lib/python3.10/site-packages/torch/_tensor.py:488\u001b[0m, in \u001b[0;36mTensor.backward\u001b[0;34m(self, gradient, retain_graph, create_graph, inputs)\u001b[0m\n\u001b[1;32m    478\u001b[0m \u001b[38;5;28;01mif\u001b[39;00m has_torch_function_unary(\u001b[38;5;28mself\u001b[39m):\n\u001b[1;32m    479\u001b[0m     \u001b[38;5;28;01mreturn\u001b[39;00m handle_torch_function(\n\u001b[1;32m    480\u001b[0m         Tensor\u001b[38;5;241m.\u001b[39mbackward,\n\u001b[1;32m    481\u001b[0m         (\u001b[38;5;28mself\u001b[39m,),\n\u001b[0;32m   (...)\u001b[0m\n\u001b[1;32m    486\u001b[0m         inputs\u001b[38;5;241m=\u001b[39minputs,\n\u001b[1;32m    487\u001b[0m     )\n\u001b[0;32m--> 488\u001b[0m \u001b[43mtorch\u001b[49m\u001b[38;5;241;43m.\u001b[39;49m\u001b[43mautograd\u001b[49m\u001b[38;5;241;43m.\u001b[39;49m\u001b[43mbackward\u001b[49m\u001b[43m(\u001b[49m\n\u001b[1;32m    489\u001b[0m \u001b[43m    \u001b[49m\u001b[38;5;28;43mself\u001b[39;49m\u001b[43m,\u001b[49m\u001b[43m \u001b[49m\u001b[43mgradient\u001b[49m\u001b[43m,\u001b[49m\u001b[43m \u001b[49m\u001b[43mretain_graph\u001b[49m\u001b[43m,\u001b[49m\u001b[43m \u001b[49m\u001b[43mcreate_graph\u001b[49m\u001b[43m,\u001b[49m\u001b[43m \u001b[49m\u001b[43minputs\u001b[49m\u001b[38;5;241;43m=\u001b[39;49m\u001b[43minputs\u001b[49m\n\u001b[1;32m    490\u001b[0m \u001b[43m\u001b[49m\u001b[43m)\u001b[49m\n",
      "File \u001b[0;32m~/fit/ni/mvi/mvi-sp/venv/lib/python3.10/site-packages/torch/autograd/__init__.py:197\u001b[0m, in \u001b[0;36mbackward\u001b[0;34m(tensors, grad_tensors, retain_graph, create_graph, grad_variables, inputs)\u001b[0m\n\u001b[1;32m    192\u001b[0m     retain_graph \u001b[38;5;241m=\u001b[39m create_graph\n\u001b[1;32m    194\u001b[0m \u001b[38;5;66;03m# The reason we repeat same the comment below is that\u001b[39;00m\n\u001b[1;32m    195\u001b[0m \u001b[38;5;66;03m# some Python versions print out the first line of a multi-line function\u001b[39;00m\n\u001b[1;32m    196\u001b[0m \u001b[38;5;66;03m# calls in the traceback and some print out the last line\u001b[39;00m\n\u001b[0;32m--> 197\u001b[0m \u001b[43mVariable\u001b[49m\u001b[38;5;241;43m.\u001b[39;49m\u001b[43m_execution_engine\u001b[49m\u001b[38;5;241;43m.\u001b[39;49m\u001b[43mrun_backward\u001b[49m\u001b[43m(\u001b[49m\u001b[43m  \u001b[49m\u001b[38;5;66;43;03m# Calls into the C++ engine to run the backward pass\u001b[39;49;00m\n\u001b[1;32m    198\u001b[0m \u001b[43m    \u001b[49m\u001b[43mtensors\u001b[49m\u001b[43m,\u001b[49m\u001b[43m \u001b[49m\u001b[43mgrad_tensors_\u001b[49m\u001b[43m,\u001b[49m\u001b[43m \u001b[49m\u001b[43mretain_graph\u001b[49m\u001b[43m,\u001b[49m\u001b[43m \u001b[49m\u001b[43mcreate_graph\u001b[49m\u001b[43m,\u001b[49m\u001b[43m \u001b[49m\u001b[43minputs\u001b[49m\u001b[43m,\u001b[49m\n\u001b[1;32m    199\u001b[0m \u001b[43m    \u001b[49m\u001b[43mallow_unreachable\u001b[49m\u001b[38;5;241;43m=\u001b[39;49m\u001b[38;5;28;43;01mTrue\u001b[39;49;00m\u001b[43m,\u001b[49m\u001b[43m \u001b[49m\u001b[43maccumulate_grad\u001b[49m\u001b[38;5;241;43m=\u001b[39;49m\u001b[38;5;28;43;01mTrue\u001b[39;49;00m\u001b[43m)\u001b[49m\n",
      "\u001b[0;31mKeyboardInterrupt\u001b[0m: "
     ]
    }
   ],
   "source": [
    "LEARNING_RATE = 0.01\n",
    "EPOCHS = 200\n",
    "model_description = \"w_missing_relu\"\n",
    "#################### TRAIN MODEL ########################\n",
    "\n",
    "if torch.cuda.is_available():\n",
    "    device = \"cuda\"\n",
    "else:\n",
    "    device = \"cpu\"\n",
    "print(f\"Using {device}\", \"\\n\")\n",
    "\n",
    "print(\"=======================================\")\n",
    "print(\"TRAINING\")\n",
    "print(\"=======================================\")\n",
    "# model = CNN().to(device)\n",
    "model = ResNet(ResidualBlock, [3,4,6,3]).to(device)\n",
    "# model = ResNet(ResidualBlock, [3,3,3,3]).to(device)\n",
    "# model = ResNet(ResidualBlock, [2,2,2,2]).to(device)\n",
    "# model = ResNet18(1, ResBlock, outputs=30).to(device)\n",
    "# append_dropout(model)\n",
    "\n",
    "loss_fn = nn.MSELoss()\n",
    "optimiser = torch.optim.Adam(model.parameters(), lr=LEARNING_RATE)\n",
    "\n",
    "# train model\n",
    "loss_history = train(model, dataloader_train, loss_fn, optimiser, device, EPOCHS, dataloader_validation)\n",
    "\n",
    "# plot graph\n",
    "plot_line_graph(list(map(list, zip(*loss_history))))\n",
    "\n",
    "# save model\n",
    "save_model(model, model_description)\n"
   ]
  },
  {
   "cell_type": "markdown",
   "id": "c217edb4",
   "metadata": {
    "id": "c217edb4"
   },
   "source": [
    "get some random prediction on validation dataset. Red is target and blue is prediction."
   ]
  },
  {
   "cell_type": "code",
   "execution_count": null,
   "id": "a36ed8c6",
   "metadata": {
    "ExecuteTime": {
     "end_time": "2022-12-30T13:05:59.212186Z",
     "start_time": "2022-12-30T13:05:59.212167Z"
    },
    "colab": {
     "base_uri": "https://localhost:8080/",
     "height": 113
    },
    "id": "a36ed8c6",
    "outputId": "fe8a7f61-f345-4b4f-e903-7a36991585ec"
   },
   "outputs": [],
   "source": [
    "idx = 5\n",
    "# ----------------------\n",
    "validation = next(iter(dataloader_train))\n",
    "image = validation[0][idx]\n",
    "target = validation[1][idx]\n",
    "prediction = predict(model, torch.Tensor(np.expand_dims(np.expand_dims(image, axis=0), axis=0))).to(\"cpu\")\n",
    "\n",
    "image = image.numpy()\n",
    "target = target.tolist()\n",
    "prediction = prediction.tolist()\n",
    "target = list(map(list, zip(target[::2], target[1::2])))\n",
    "prediction = list(map(list, zip(prediction[::2], prediction[1::2])))\n",
    "\n",
    "display(draw_predicted_target(image, prediction, target))\n"
   ]
  },
  {
   "cell_type": "markdown",
   "id": "ONCTnH5Vd2P6",
   "metadata": {
    "id": "ONCTnH5Vd2P6"
   },
   "source": [
    "## Predict Test Dataset"
   ]
  },
  {
   "cell_type": "code",
   "execution_count": null,
   "id": "lFJ_5w3KfPLc",
   "metadata": {
    "ExecuteTime": {
     "end_time": "2022-12-30T13:05:59.213683Z",
     "start_time": "2022-12-30T13:05:59.213664Z"
    },
    "colab": {
     "base_uri": "https://localhost:8080/",
     "height": 424
    },
    "id": "lFJ_5w3KfPLc",
    "outputId": "90f81304-daaf-4cc3-d301-1eaecfe7ce50"
   },
   "outputs": [],
   "source": [
    "df_test"
   ]
  },
  {
   "cell_type": "code",
   "execution_count": null,
   "id": "mM7klQepfR-3",
   "metadata": {
    "ExecuteTime": {
     "end_time": "2022-12-30T13:05:59.215158Z",
     "start_time": "2022-12-30T13:05:59.215132Z"
    },
    "colab": {
     "base_uri": "https://localhost:8080/",
     "height": 424
    },
    "id": "mM7klQepfR-3",
    "outputId": "3608abd6-9731-4ca0-cec5-b92296f6fd49"
   },
   "outputs": [],
   "source": [
    "df_id_lookup_table"
   ]
  },
  {
   "cell_type": "code",
   "execution_count": null,
   "id": "MkapNbrcfDlx",
   "metadata": {
    "ExecuteTime": {
     "end_time": "2022-12-30T13:05:59.216881Z",
     "start_time": "2022-12-30T13:05:59.216863Z"
    },
    "colab": {
     "base_uri": "https://localhost:8080/",
     "height": 424
    },
    "id": "MkapNbrcfDlx",
    "outputId": "7f1ba36a-394f-41e4-ddb5-4a6d45379879"
   },
   "outputs": [],
   "source": [
    "df_dample_submissions"
   ]
  },
  {
   "cell_type": "code",
   "execution_count": null,
   "id": "42G7SPXIgiDr",
   "metadata": {
    "ExecuteTime": {
     "end_time": "2022-12-30T13:05:59.218877Z",
     "start_time": "2022-12-30T13:05:59.218857Z"
    },
    "colab": {
     "base_uri": "https://localhost:8080/",
     "height": 990
    },
    "id": "42G7SPXIgiDr",
    "outputId": "5fb3bdea-a270-41f6-d81c-e8280ed45fa2"
   },
   "outputs": [],
   "source": [
    "df_id_lookup_table[df_id_lookup_table[\"ImageId\"] == 1]"
   ]
  },
  {
   "cell_type": "code",
   "execution_count": null,
   "id": "fWvrS2Pgd4pF",
   "metadata": {
    "ExecuteTime": {
     "end_time": "2022-12-30T13:05:59.220564Z",
     "start_time": "2022-12-30T13:05:59.220537Z"
    },
    "colab": {
     "base_uri": "https://localhost:8080/",
     "height": 424
    },
    "id": "fWvrS2Pgd4pF",
    "outputId": "7f2378da-f35f-428a-ed9e-1938771d9d62"
   },
   "outputs": [],
   "source": [
    "df_submission = df_dample_submissions.copy()\n",
    "\n",
    "def get_feature_by_name(feature_name, features_list, columns):\n",
    "  idx = columns.index(feature_name)\n",
    "  return features_list[idx]\n",
    "\n",
    "predictions = []\n",
    "for idx, row in df_test.iterrows():\n",
    "  # predict keypoints\n",
    "\n",
    "  img_tensor = torch.Tensor(np.expand_dims(np.expand_dims(encoded_images_to_2darray([row[\"Image\"]])[0], axis=0), axis=0))\n",
    "  prediction = predict(model, img_tensor).to(\"cpu\").tolist()\n",
    "  predictions.append(prediction)\n",
    "\n",
    "for idx, row in df_id_lookup_table.iterrows():\n",
    "  # get value\n",
    "  feature_name = row[\"FeatureName\"]\n",
    "  prediction = predictions[row[\"ImageId\"] - 1]\n",
    "  value = int(get_feature_by_name(feature_name, prediction, df_train.columns[:-1].tolist()))\n",
    "  \n",
    "  # save to submission\n",
    "  df_submission.iloc[idx, 1] = value\n",
    "\n",
    "df_submission"
   ]
  },
  {
   "cell_type": "code",
   "execution_count": null,
   "id": "0IOicKRPgT0J",
   "metadata": {
    "ExecuteTime": {
     "end_time": "2022-12-30T13:05:59.222460Z",
     "start_time": "2022-12-30T13:05:59.222436Z"
    },
    "id": "0IOicKRPgT0J"
   },
   "outputs": [],
   "source": [
    "a = df_submission.Location.values\n",
    "df_submission.Location = np.where(a > 96, 96, a)"
   ]
  },
  {
   "cell_type": "code",
   "execution_count": null,
   "id": "4jwkjA7id8Bo",
   "metadata": {
    "ExecuteTime": {
     "end_time": "2022-12-30T13:05:59.224169Z",
     "start_time": "2022-12-30T13:05:59.224150Z"
    },
    "id": "4jwkjA7id8Bo"
   },
   "outputs": [],
   "source": [
    "df_submission.to_csv(\"models/submission\" + datetime.datetime.now().strftime(\"%y:%m:%d:%H:%M:%S\") + \".csv\", index=False)"
   ]
  },
  {
   "cell_type": "markdown",
   "id": "RpdUkqg0ALm8",
   "metadata": {
    "id": "RpdUkqg0ALm8"
   },
   "source": [
    "## Analysis"
   ]
  },
  {
   "cell_type": "code",
   "execution_count": null,
   "id": "Cy6yFZrM9S6r",
   "metadata": {
    "ExecuteTime": {
     "end_time": "2022-12-30T13:05:59.225737Z",
     "start_time": "2022-12-30T13:05:59.225720Z"
    },
    "id": "Cy6yFZrM9S6r"
   },
   "outputs": [],
   "source": [
    "folder_path = \"/content/drive/MyDrive/FIT/NI/MVI/semestralka/models/\"\n",
    "files = [\n",
    "    # \"loss_history_ResNet22:12:28:14:11:26.txt\", \n",
    "        #  \"loss_history_ResNet22:12:28:13:02:21.txt\",\n",
    "        #  \"loss_history_ResNet22:12:27:22:37:07.txt\",\n",
    "        #  \"loss_history_ResNet22:12:27:22:24:30.txt\",\n",
    "        #  \"loss_history_ResNet22:12:27:20:50:43.txt\",\n",
    "        #  \"loss_history_ResNet22:12:26:23:07:59.txt\",\n",
    "#          \"loss_history_CNN22:12:28:18:19:54.txt\",\n",
    "#          \"loss_history_CNN22:12:28:18:24:41.txt\",\n",
    "#          \"loss_history_CNN22:12:28:18:33:23.txt\", \n",
    "#          \"loss_history_CNN22:12:28:18:47:06.txt\"\n",
    "         ]\n",
    "legend = [\n",
    "#     \"CNN - augm + CLAHE\",\n",
    "#     \"CNN - nothing\",\n",
    "#     \"CNN - CLAHE\",\n",
    "#     \"CNN - augm\"\n",
    "          ]\n",
    "train_loss = []\n",
    "validation_loss = []\n",
    "\n",
    "for file in files:\n",
    "  with open(folder_path + file, \"r\") as f:\n",
    "    content = f.read()\n",
    "    values = np.array(content.replace('\\n', ' ').split(' ')).astype(float)\n",
    "    train_loss.append(values[::2])\n",
    "    validation_loss.append(values[1::2])\n",
    "\n",
    "\n",
    "plot_line_graph(validation_loss, legend)"
   ]
  }
 ],
 "metadata": {
  "accelerator": "GPU",
  "colab": {
   "collapsed_sections": [
    "c5b2cce2"
   ],
   "machine_shape": "hm",
   "provenance": []
  },
  "gpuClass": "premium",
  "kernelspec": {
   "display_name": "Python 3 (ipykernel)",
   "language": "python",
   "name": "python3"
  },
  "language_info": {
   "codemirror_mode": {
    "name": "ipython",
    "version": 3
   },
   "file_extension": ".py",
   "mimetype": "text/x-python",
   "name": "python",
   "nbconvert_exporter": "python",
   "pygments_lexer": "ipython3",
   "version": "3.10.7"
  },
  "toc": {
   "base_numbering": 1,
   "nav_menu": {},
   "number_sections": true,
   "sideBar": true,
   "skip_h1_title": false,
   "title_cell": "Table of Contents",
   "title_sidebar": "Contents",
   "toc_cell": false,
   "toc_position": {},
   "toc_section_display": true,
   "toc_window_display": false
  }
 },
 "nbformat": 4,
 "nbformat_minor": 5
}
